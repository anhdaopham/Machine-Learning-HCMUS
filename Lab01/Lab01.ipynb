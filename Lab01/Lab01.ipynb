{
  "nbformat": 4,
  "nbformat_minor": 0,
  "metadata": {
    "colab": {
      "name": "Lab01.ipynb",
      "provenance": [],
      "collapsed_sections": []
    },
    "kernelspec": {
      "name": "python3",
      "display_name": "Python 3"
    }
  },
  "cells": [
    {
      "cell_type": "code",
      "metadata": {
        "id": "LlnW0ktOrGhY"
      },
      "source": [
        "import pandas as pd\n",
        "import numpy as np\n",
        "import matplotlib.pyplot as plt"
      ],
      "execution_count": null,
      "outputs": []
    },
    {
      "cell_type": "code",
      "metadata": {
        "id": "H7oiDaf7qEDA",
        "colab": {
          "base_uri": "https://localhost:8080/",
          "height": 122
        },
        "outputId": "60ccac3b-6bd7-4ce0-d2f4-c7fe2bb6d878"
      },
      "source": [
        "from google.colab import drive\n",
        "drive.mount('/content/gdrive')\n",
        "path = \"gdrive/My Drive/Machine Learning/Lab01\""
      ],
      "execution_count": null,
      "outputs": [
        {
          "output_type": "stream",
          "text": [
            "Go to this URL in a browser: https://accounts.google.com/o/oauth2/auth?client_id=947318989803-6bn6qk8qdgf4n4g3pfee6491hc0brc4i.apps.googleusercontent.com&redirect_uri=urn%3aietf%3awg%3aoauth%3a2.0%3aoob&response_type=code&scope=email%20https%3a%2f%2fwww.googleapis.com%2fauth%2fdocs.test%20https%3a%2f%2fwww.googleapis.com%2fauth%2fdrive%20https%3a%2f%2fwww.googleapis.com%2fauth%2fdrive.photos.readonly%20https%3a%2f%2fwww.googleapis.com%2fauth%2fpeopleapi.readonly\n",
            "\n",
            "Enter your authorization code:\n",
            "··········\n",
            "Mounted at /content/gdrive\n"
          ],
          "name": "stdout"
        }
      ]
    },
    {
      "cell_type": "code",
      "metadata": {
        "id": "IqN2Nf3CqpEA",
        "colab": {
          "base_uri": "https://localhost:8080/",
          "height": 419
        },
        "outputId": "dc34740e-0655-48f6-d74b-3d60e3d825a4"
      },
      "source": [
        "df = pd.read_csv(path + \"/House_Price.csv\")\n",
        "df"
      ],
      "execution_count": null,
      "outputs": [
        {
          "output_type": "execute_result",
          "data": {
            "text/html": [
              "<div>\n",
              "<style scoped>\n",
              "    .dataframe tbody tr th:only-of-type {\n",
              "        vertical-align: middle;\n",
              "    }\n",
              "\n",
              "    .dataframe tbody tr th {\n",
              "        vertical-align: top;\n",
              "    }\n",
              "\n",
              "    .dataframe thead th {\n",
              "        text-align: right;\n",
              "    }\n",
              "</style>\n",
              "<table border=\"1\" class=\"dataframe\">\n",
              "  <thead>\n",
              "    <tr style=\"text-align: right;\">\n",
              "      <th></th>\n",
              "      <th>Size in feet squared</th>\n",
              "      <th>Price in thousand dollar</th>\n",
              "    </tr>\n",
              "  </thead>\n",
              "  <tbody>\n",
              "    <tr>\n",
              "      <th>0</th>\n",
              "      <td>2497</td>\n",
              "      <td>729</td>\n",
              "    </tr>\n",
              "    <tr>\n",
              "      <th>1</th>\n",
              "      <td>1627</td>\n",
              "      <td>617</td>\n",
              "    </tr>\n",
              "    <tr>\n",
              "      <th>2</th>\n",
              "      <td>576</td>\n",
              "      <td>290</td>\n",
              "    </tr>\n",
              "    <tr>\n",
              "      <th>3</th>\n",
              "      <td>2156</td>\n",
              "      <td>728</td>\n",
              "    </tr>\n",
              "    <tr>\n",
              "      <th>4</th>\n",
              "      <td>1154</td>\n",
              "      <td>453</td>\n",
              "    </tr>\n",
              "    <tr>\n",
              "      <th>...</th>\n",
              "      <td>...</td>\n",
              "      <td>...</td>\n",
              "    </tr>\n",
              "    <tr>\n",
              "      <th>95</th>\n",
              "      <td>579</td>\n",
              "      <td>207</td>\n",
              "    </tr>\n",
              "    <tr>\n",
              "      <th>96</th>\n",
              "      <td>1551</td>\n",
              "      <td>368</td>\n",
              "    </tr>\n",
              "    <tr>\n",
              "      <th>97</th>\n",
              "      <td>2243</td>\n",
              "      <td>514</td>\n",
              "    </tr>\n",
              "    <tr>\n",
              "      <th>98</th>\n",
              "      <td>803</td>\n",
              "      <td>372</td>\n",
              "    </tr>\n",
              "    <tr>\n",
              "      <th>99</th>\n",
              "      <td>2070</td>\n",
              "      <td>518</td>\n",
              "    </tr>\n",
              "  </tbody>\n",
              "</table>\n",
              "<p>100 rows × 2 columns</p>\n",
              "</div>"
            ],
            "text/plain": [
              "    Size in feet squared  Price in thousand dollar\n",
              "0                   2497                       729\n",
              "1                   1627                       617\n",
              "2                    576                       290\n",
              "3                   2156                       728\n",
              "4                   1154                       453\n",
              "..                   ...                       ...\n",
              "95                   579                       207\n",
              "96                  1551                       368\n",
              "97                  2243                       514\n",
              "98                   803                       372\n",
              "99                  2070                       518\n",
              "\n",
              "[100 rows x 2 columns]"
            ]
          },
          "metadata": {
            "tags": []
          },
          "execution_count": 19
        }
      ]
    },
    {
      "cell_type": "code",
      "metadata": {
        "id": "rlOfGe6NuN9h",
        "colab": {
          "base_uri": "https://localhost:8080/",
          "height": 296
        },
        "outputId": "c98835ed-5e8a-40b3-957c-8b296104db51"
      },
      "source": [
        "## vẽ hình\n",
        "plt.scatter(df[\"Size in feet squared\"], df[\"Price in thousand dollar\"])\n",
        "plt.xlabel(\"Size in feet squared\")\n",
        "plt.ylabel(\"Price in thousand dollar\")"
      ],
      "execution_count": null,
      "outputs": [
        {
          "output_type": "execute_result",
          "data": {
            "text/plain": [
              "Text(0, 0.5, 'Price in thousand dollar')"
            ]
          },
          "metadata": {
            "tags": []
          },
          "execution_count": 20
        },
        {
          "output_type": "display_data",
          "data": {
            "image/png": "[encoded data removed]",
            "text/plain": [
              "<Figure size 432x288 with 1 Axes>"
            ]
          },
          "metadata": {
            "tags": [],
            "needs_background": "light"
          }
        }
      ]
    },
    {
      "cell_type": "code",
      "metadata": {
        "id": "uVbaMyS6uVDU",
        "colab": {
          "base_uri": "https://localhost:8080/",
          "height": 1000
        },
        "outputId": "9cd7f267-ba2d-4099-80a7-b1b1dfa4b61f"
      },
      "source": [
        "X = df['Size in feet squared'].values  ## trích diện tích thành một mảng numpy\n",
        "X = X.reshape(-1, 1)                     ## chuyển thành ma trận cột\n",
        "print(X)"
      ],
      "execution_count": null,
      "outputs": [
        {
          "output_type": "stream",
          "text": [
            "[[2497]\n",
            " [1627]\n",
            " [ 576]\n",
            " [2156]\n",
            " [1154]\n",
            " [2404]\n",
            " [1993]\n",
            " [2659]\n",
            " [ 757]\n",
            " [2082]\n",
            " [2832]\n",
            " [1329]\n",
            " [2117]\n",
            " [2774]\n",
            " [ 591]\n",
            " [1263]\n",
            " [1495]\n",
            " [1480]\n",
            " [ 643]\n",
            " [ 627]\n",
            " [1783]\n",
            " [ 602]\n",
            " [2918]\n",
            " [2607]\n",
            " [2208]\n",
            " [2085]\n",
            " [1826]\n",
            " [2863]\n",
            " [2110]\n",
            " [2072]\n",
            " [2169]\n",
            " [ 508]\n",
            " [2617]\n",
            " [2554]\n",
            " [1265]\n",
            " [2096]\n",
            " [2852]\n",
            " [2361]\n",
            " [1797]\n",
            " [1737]\n",
            " [1180]\n",
            " [2542]\n",
            " [2500]\n",
            " [ 857]\n",
            " [1304]\n",
            " [1784]\n",
            " [1412]\n",
            " [ 773]\n",
            " [ 887]\n",
            " [ 972]\n",
            " [1047]\n",
            " [1241]\n",
            " [ 700]\n",
            " [2927]\n",
            " [2939]\n",
            " [ 798]\n",
            " [2413]\n",
            " [1293]\n",
            " [1302]\n",
            " [2843]\n",
            " [1319]\n",
            " [1275]\n",
            " [1593]\n",
            " [2382]\n",
            " [1005]\n",
            " [1391]\n",
            " [2123]\n",
            " [1273]\n",
            " [1092]\n",
            " [2356]\n",
            " [ 772]\n",
            " [2711]\n",
            " [1110]\n",
            " [2961]\n",
            " [1591]\n",
            " [2152]\n",
            " [2591]\n",
            " [2327]\n",
            " [2329]\n",
            " [1665]\n",
            " [1833]\n",
            " [2997]\n",
            " [ 582]\n",
            " [2863]\n",
            " [2890]\n",
            " [1626]\n",
            " [ 621]\n",
            " [2190]\n",
            " [1029]\n",
            " [1132]\n",
            " [2994]\n",
            " [ 635]\n",
            " [2297]\n",
            " [ 855]\n",
            " [1203]\n",
            " [ 579]\n",
            " [1551]\n",
            " [2243]\n",
            " [ 803]\n",
            " [2070]]\n"
          ],
          "name": "stdout"
        }
      ]
    },
    {
      "cell_type": "code",
      "metadata": {
        "id": "nHpylbDg0N_h",
        "colab": {
          "base_uri": "https://localhost:8080/",
          "height": 1000
        },
        "outputId": "9f7031eb-a5a9-4cc8-e701-316cd68a388b"
      },
      "source": [
        "y = df['Price in thousand dollar'].values   ## Trích giá tiền \n",
        "y = y.reshape(-1,1)\n",
        "print(y)"
      ],
      "execution_count": null,
      "outputs": [
        {
          "output_type": "stream",
          "text": [
            "[[ 729]\n",
            " [ 617]\n",
            " [ 290]\n",
            " [ 728]\n",
            " [ 453]\n",
            " [ 727]\n",
            " [ 757]\n",
            " [ 699]\n",
            " [ 178]\n",
            " [ 765]\n",
            " [ 845]\n",
            " [ 296]\n",
            " [ 628]\n",
            " [ 934]\n",
            " [ 190]\n",
            " [ 498]\n",
            " [ 372]\n",
            " [ 509]\n",
            " [ 286]\n",
            " [ 384]\n",
            " [ 459]\n",
            " [ 230]\n",
            " [1020]\n",
            " [ 765]\n",
            " [ 705]\n",
            " [ 607]\n",
            " [ 520]\n",
            " [ 756]\n",
            " [ 720]\n",
            " [ 602]\n",
            " [ 521]\n",
            " [ 124]\n",
            " [ 661]\n",
            " [ 673]\n",
            " [ 434]\n",
            " [ 741]\n",
            " [ 950]\n",
            " [ 535]\n",
            " [ 737]\n",
            " [ 566]\n",
            " [ 373]\n",
            " [ 711]\n",
            " [ 716]\n",
            " [ 420]\n",
            " [ 352]\n",
            " [ 475]\n",
            " [ 491]\n",
            " [ 360]\n",
            " [ 389]\n",
            " [ 308]\n",
            " [ 350]\n",
            " [ 348]\n",
            " [ 364]\n",
            " [ 763]\n",
            " [ 789]\n",
            " [ 311]\n",
            " [ 465]\n",
            " [ 377]\n",
            " [ 492]\n",
            " [ 885]\n",
            " [ 544]\n",
            " [ 426]\n",
            " [ 459]\n",
            " [ 758]\n",
            " [ 383]\n",
            " [ 571]\n",
            " [ 471]\n",
            " [ 464]\n",
            " [ 348]\n",
            " [ 527]\n",
            " [ 224]\n",
            " [ 834]\n",
            " [ 421]\n",
            " [ 715]\n",
            " [ 407]\n",
            " [ 590]\n",
            " [ 772]\n",
            " [ 681]\n",
            " [ 580]\n",
            " [ 436]\n",
            " [ 848]\n",
            " [ 912]\n",
            " [ 332]\n",
            " [ 684]\n",
            " [ 725]\n",
            " [ 448]\n",
            " [ 175]\n",
            " [ 662]\n",
            " [ 418]\n",
            " [ 387]\n",
            " [ 907]\n",
            " [ 438]\n",
            " [ 596]\n",
            " [ 325]\n",
            " [ 500]\n",
            " [ 207]\n",
            " [ 368]\n",
            " [ 514]\n",
            " [ 372]\n",
            " [ 518]]\n"
          ],
          "name": "stdout"
        }
      ]
    },
    {
      "cell_type": "code",
      "metadata": {
        "id": "9tfXo1ri0QFk",
        "colab": {
          "base_uri": "https://localhost:8080/",
          "height": 1000
        },
        "outputId": "28b82472-642b-4e08-b602-e20c2e488479"
      },
      "source": [
        "Z = np.concatenate([X, np.ones((100,1))], axis=-1)   ## thêm một cột vào sau X và gán vào Z\n",
        "Z = Z.astype(np.float32)                                 ## chuyển sang float\n",
        "print(Z)"
      ],
      "execution_count": null,
      "outputs": [
        {
          "output_type": "stream",
          "text": [
            "[[2.497e+03 1.000e+00]\n",
            " [1.627e+03 1.000e+00]\n",
            " [5.760e+02 1.000e+00]\n",
            " [2.156e+03 1.000e+00]\n",
            " [1.154e+03 1.000e+00]\n",
            " [2.404e+03 1.000e+00]\n",
            " [1.993e+03 1.000e+00]\n",
            " [2.659e+03 1.000e+00]\n",
            " [7.570e+02 1.000e+00]\n",
            " [2.082e+03 1.000e+00]\n",
            " [2.832e+03 1.000e+00]\n",
            " [1.329e+03 1.000e+00]\n",
            " [2.117e+03 1.000e+00]\n",
            " [2.774e+03 1.000e+00]\n",
            " [5.910e+02 1.000e+00]\n",
            " [1.263e+03 1.000e+00]\n",
            " [1.495e+03 1.000e+00]\n",
            " [1.480e+03 1.000e+00]\n",
            " [6.430e+02 1.000e+00]\n",
            " [6.270e+02 1.000e+00]\n",
            " [1.783e+03 1.000e+00]\n",
            " [6.020e+02 1.000e+00]\n",
            " [2.918e+03 1.000e+00]\n",
            " [2.607e+03 1.000e+00]\n",
            " [2.208e+03 1.000e+00]\n",
            " [2.085e+03 1.000e+00]\n",
            " [1.826e+03 1.000e+00]\n",
            " [2.863e+03 1.000e+00]\n",
            " [2.110e+03 1.000e+00]\n",
            " [2.072e+03 1.000e+00]\n",
            " [2.169e+03 1.000e+00]\n",
            " [5.080e+02 1.000e+00]\n",
            " [2.617e+03 1.000e+00]\n",
            " [2.554e+03 1.000e+00]\n",
            " [1.265e+03 1.000e+00]\n",
            " [2.096e+03 1.000e+00]\n",
            " [2.852e+03 1.000e+00]\n",
            " [2.361e+03 1.000e+00]\n",
            " [1.797e+03 1.000e+00]\n",
            " [1.737e+03 1.000e+00]\n",
            " [1.180e+03 1.000e+00]\n",
            " [2.542e+03 1.000e+00]\n",
            " [2.500e+03 1.000e+00]\n",
            " [8.570e+02 1.000e+00]\n",
            " [1.304e+03 1.000e+00]\n",
            " [1.784e+03 1.000e+00]\n",
            " [1.412e+03 1.000e+00]\n",
            " [7.730e+02 1.000e+00]\n",
            " [8.870e+02 1.000e+00]\n",
            " [9.720e+02 1.000e+00]\n",
            " [1.047e+03 1.000e+00]\n",
            " [1.241e+03 1.000e+00]\n",
            " [7.000e+02 1.000e+00]\n",
            " [2.927e+03 1.000e+00]\n",
            " [2.939e+03 1.000e+00]\n",
            " [7.980e+02 1.000e+00]\n",
            " [2.413e+03 1.000e+00]\n",
            " [1.293e+03 1.000e+00]\n",
            " [1.302e+03 1.000e+00]\n",
            " [2.843e+03 1.000e+00]\n",
            " [1.319e+03 1.000e+00]\n",
            " [1.275e+03 1.000e+00]\n",
            " [1.593e+03 1.000e+00]\n",
            " [2.382e+03 1.000e+00]\n",
            " [1.005e+03 1.000e+00]\n",
            " [1.391e+03 1.000e+00]\n",
            " [2.123e+03 1.000e+00]\n",
            " [1.273e+03 1.000e+00]\n",
            " [1.092e+03 1.000e+00]\n",
            " [2.356e+03 1.000e+00]\n",
            " [7.720e+02 1.000e+00]\n",
            " [2.711e+03 1.000e+00]\n",
            " [1.110e+03 1.000e+00]\n",
            " [2.961e+03 1.000e+00]\n",
            " [1.591e+03 1.000e+00]\n",
            " [2.152e+03 1.000e+00]\n",
            " [2.591e+03 1.000e+00]\n",
            " [2.327e+03 1.000e+00]\n",
            " [2.329e+03 1.000e+00]\n",
            " [1.665e+03 1.000e+00]\n",
            " [1.833e+03 1.000e+00]\n",
            " [2.997e+03 1.000e+00]\n",
            " [5.820e+02 1.000e+00]\n",
            " [2.863e+03 1.000e+00]\n",
            " [2.890e+03 1.000e+00]\n",
            " [1.626e+03 1.000e+00]\n",
            " [6.210e+02 1.000e+00]\n",
            " [2.190e+03 1.000e+00]\n",
            " [1.029e+03 1.000e+00]\n",
            " [1.132e+03 1.000e+00]\n",
            " [2.994e+03 1.000e+00]\n",
            " [6.350e+02 1.000e+00]\n",
            " [2.297e+03 1.000e+00]\n",
            " [8.550e+02 1.000e+00]\n",
            " [1.203e+03 1.000e+00]\n",
            " [5.790e+02 1.000e+00]\n",
            " [1.551e+03 1.000e+00]\n",
            " [2.243e+03 1.000e+00]\n",
            " [8.030e+02 1.000e+00]\n",
            " [2.070e+03 1.000e+00]]\n"
          ],
          "name": "stdout"
        }
      ]
    },
    {
      "cell_type": "code",
      "metadata": {
        "id": "iwT7Sygf12CK",
        "colab": {
          "base_uri": "https://localhost:8080/",
          "height": 51
        },
        "outputId": "1a64ce96-ec19-441e-f16d-bcc102a19c96"
      },
      "source": [
        "## giá trị a và b tìm được\n",
        "np.matmul(np.matmul(np.linalg.inv(np.matmul(Z.T,Z)), Z.T), y)"
      ],
      "execution_count": null,
      "outputs": [
        {
          "output_type": "execute_result",
          "data": {
            "text/plain": [
              "array([[  0.23481099],\n",
              "       [128.49492905]])"
            ]
          },
          "metadata": {
            "tags": []
          },
          "execution_count": 29
        }
      ]
    },
    {
      "cell_type": "code",
      "metadata": {
        "id": "peLZe_pCX8ZK",
        "colab": {
          "base_uri": "https://localhost:8080/",
          "height": 296
        },
        "outputId": "191ce252-2b6e-4244-fa55-10ec2d7c64fb"
      },
      "source": [
        "## vẽ hình\n",
        "plt.scatter(df[\"Size in feet squared\"], df[\"Price in thousand dollar\"])\n",
        "plt.plot(np.arange(500, 3000), 0.23481099*np.arange(500, 3000) + 128.49492905)   ## vẽ solution tìm được\n",
        "plt.xlabel(\"Size in feet squared\")\n",
        "plt.ylabel(\"Price in thousand dollar\")"
      ],
      "execution_count": null,
      "outputs": [
        {
          "output_type": "execute_result",
          "data": {
            "text/plain": [
              "Text(0, 0.5, 'Price in thousand dollar')"
            ]
          },
          "metadata": {
            "tags": []
          },
          "execution_count": 107
        },
        {
          "output_type": "display_data",
          "data": {
            "image/png": "[encoded data removed]",
            "text/plain": [
              "<Figure size 432x288 with 1 Axes>"
            ]
          },
          "metadata": {
            "tags": [],
            "needs_background": "light"
          }
        }
      ]
    },
    {
      "cell_type": "code",
      "metadata": {
        "id": "ldsY9mh4YJcc",
        "colab": {
          "base_uri": "https://localhost:8080/",
          "height": 51
        },
        "outputId": "ae82c695-1dfb-4b92-d9b9-430a484a5a79"
      },
      "source": [
        "print(df[\"Size in feet squared\"].max())\n",
        "print(df[\"Size in feet squared\"].min())"
      ],
      "execution_count": null,
      "outputs": [
        {
          "output_type": "stream",
          "text": [
            "2997\n",
            "508\n"
          ],
          "name": "stdout"
        }
      ]
    },
    {
      "cell_type": "code",
      "metadata": {
        "id": "x3a6UJ5K3mYk",
        "colab": {
          "base_uri": "https://localhost:8080/",
          "height": 419
        },
        "outputId": "f70a6296-2fdb-42bb-ab06-a1890a0ce4dc"
      },
      "source": [
        "data = pd.read_csv(path + \"/House_Price_2.csv\")\n",
        "data"
      ],
      "execution_count": null,
      "outputs": [
        {
          "output_type": "execute_result",
          "data": {
            "text/html": [
              "<div>\n",
              "<style scoped>\n",
              "    .dataframe tbody tr th:only-of-type {\n",
              "        vertical-align: middle;\n",
              "    }\n",
              "\n",
              "    .dataframe tbody tr th {\n",
              "        vertical-align: top;\n",
              "    }\n",
              "\n",
              "    .dataframe thead th {\n",
              "        text-align: right;\n",
              "    }\n",
              "</style>\n",
              "<table border=\"1\" class=\"dataframe\">\n",
              "  <thead>\n",
              "    <tr style=\"text-align: right;\">\n",
              "      <th></th>\n",
              "      <th>width</th>\n",
              "      <th>length</th>\n",
              "      <th>price</th>\n",
              "    </tr>\n",
              "  </thead>\n",
              "  <tbody>\n",
              "    <tr>\n",
              "      <th>0</th>\n",
              "      <td>28</td>\n",
              "      <td>97</td>\n",
              "      <td>3.350184e+08</td>\n",
              "    </tr>\n",
              "    <tr>\n",
              "      <th>1</th>\n",
              "      <td>21</td>\n",
              "      <td>62</td>\n",
              "      <td>2.298295e+08</td>\n",
              "    </tr>\n",
              "    <tr>\n",
              "      <th>2</th>\n",
              "      <td>27</td>\n",
              "      <td>64</td>\n",
              "      <td>2.603552e+08</td>\n",
              "    </tr>\n",
              "    <tr>\n",
              "      <th>3</th>\n",
              "      <td>5</td>\n",
              "      <td>92</td>\n",
              "      <td>2.064708e+08</td>\n",
              "    </tr>\n",
              "    <tr>\n",
              "      <th>4</th>\n",
              "      <td>13</td>\n",
              "      <td>84</td>\n",
              "      <td>2.339808e+08</td>\n",
              "    </tr>\n",
              "    <tr>\n",
              "      <th>...</th>\n",
              "      <td>...</td>\n",
              "      <td>...</td>\n",
              "      <td>...</td>\n",
              "    </tr>\n",
              "    <tr>\n",
              "      <th>95</th>\n",
              "      <td>23</td>\n",
              "      <td>94</td>\n",
              "      <td>3.055955e+08</td>\n",
              "    </tr>\n",
              "    <tr>\n",
              "      <th>96</th>\n",
              "      <td>10</td>\n",
              "      <td>69</td>\n",
              "      <td>1.890808e+08</td>\n",
              "    </tr>\n",
              "    <tr>\n",
              "      <th>97</th>\n",
              "      <td>11</td>\n",
              "      <td>35</td>\n",
              "      <td>1.305380e+08</td>\n",
              "    </tr>\n",
              "    <tr>\n",
              "      <th>98</th>\n",
              "      <td>8</td>\n",
              "      <td>66</td>\n",
              "      <td>1.701948e+08</td>\n",
              "    </tr>\n",
              "    <tr>\n",
              "      <th>99</th>\n",
              "      <td>18</td>\n",
              "      <td>28</td>\n",
              "      <td>1.455254e+08</td>\n",
              "    </tr>\n",
              "  </tbody>\n",
              "</table>\n",
              "<p>100 rows × 3 columns</p>\n",
              "</div>"
            ],
            "text/plain": [
              "    width  length         price\n",
              "0      28      97  3.350184e+08\n",
              "1      21      62  2.298295e+08\n",
              "2      27      64  2.603552e+08\n",
              "3       5      92  2.064708e+08\n",
              "4      13      84  2.339808e+08\n",
              "..    ...     ...           ...\n",
              "95     23      94  3.055955e+08\n",
              "96     10      69  1.890808e+08\n",
              "97     11      35  1.305380e+08\n",
              "98      8      66  1.701948e+08\n",
              "99     18      28  1.455254e+08\n",
              "\n",
              "[100 rows x 3 columns]"
            ]
          },
          "metadata": {
            "tags": []
          },
          "execution_count": 63
        }
      ]
    },
    {
      "cell_type": "code",
      "metadata": {
        "id": "0YoFlO-U596U"
      },
      "source": [
        "data[\"square\"] = data['width']*data['length']"
      ],
      "execution_count": null,
      "outputs": []
    },
    {
      "cell_type": "code",
      "metadata": {
        "id": "qjzUt09p8B3P",
        "colab": {
          "base_uri": "https://localhost:8080/",
          "height": 419
        },
        "outputId": "c6fe3ea2-a2b5-4179-acca-68e6f0f23390"
      },
      "source": [
        "data = data[['width', 'length', 'square', 'price']]\n",
        "data"
      ],
      "execution_count": null,
      "outputs": [
        {
          "output_type": "execute_result",
          "data": {
            "text/html": [
              "<div>\n",
              "<style scoped>\n",
              "    .dataframe tbody tr th:only-of-type {\n",
              "        vertical-align: middle;\n",
              "    }\n",
              "\n",
              "    .dataframe tbody tr th {\n",
              "        vertical-align: top;\n",
              "    }\n",
              "\n",
              "    .dataframe thead th {\n",
              "        text-align: right;\n",
              "    }\n",
              "</style>\n",
              "<table border=\"1\" class=\"dataframe\">\n",
              "  <thead>\n",
              "    <tr style=\"text-align: right;\">\n",
              "      <th></th>\n",
              "      <th>width</th>\n",
              "      <th>length</th>\n",
              "      <th>square</th>\n",
              "      <th>price</th>\n",
              "    </tr>\n",
              "  </thead>\n",
              "  <tbody>\n",
              "    <tr>\n",
              "      <th>0</th>\n",
              "      <td>28</td>\n",
              "      <td>97</td>\n",
              "      <td>2716</td>\n",
              "      <td>3.350184e+08</td>\n",
              "    </tr>\n",
              "    <tr>\n",
              "      <th>1</th>\n",
              "      <td>21</td>\n",
              "      <td>62</td>\n",
              "      <td>1302</td>\n",
              "      <td>2.298295e+08</td>\n",
              "    </tr>\n",
              "    <tr>\n",
              "      <th>2</th>\n",
              "      <td>27</td>\n",
              "      <td>64</td>\n",
              "      <td>1728</td>\n",
              "      <td>2.603552e+08</td>\n",
              "    </tr>\n",
              "    <tr>\n",
              "      <th>3</th>\n",
              "      <td>5</td>\n",
              "      <td>92</td>\n",
              "      <td>460</td>\n",
              "      <td>2.064708e+08</td>\n",
              "    </tr>\n",
              "    <tr>\n",
              "      <th>4</th>\n",
              "      <td>13</td>\n",
              "      <td>84</td>\n",
              "      <td>1092</td>\n",
              "      <td>2.339808e+08</td>\n",
              "    </tr>\n",
              "    <tr>\n",
              "      <th>...</th>\n",
              "      <td>...</td>\n",
              "      <td>...</td>\n",
              "      <td>...</td>\n",
              "      <td>...</td>\n",
              "    </tr>\n",
              "    <tr>\n",
              "      <th>95</th>\n",
              "      <td>23</td>\n",
              "      <td>94</td>\n",
              "      <td>2162</td>\n",
              "      <td>3.055955e+08</td>\n",
              "    </tr>\n",
              "    <tr>\n",
              "      <th>96</th>\n",
              "      <td>10</td>\n",
              "      <td>69</td>\n",
              "      <td>690</td>\n",
              "      <td>1.890808e+08</td>\n",
              "    </tr>\n",
              "    <tr>\n",
              "      <th>97</th>\n",
              "      <td>11</td>\n",
              "      <td>35</td>\n",
              "      <td>385</td>\n",
              "      <td>1.305380e+08</td>\n",
              "    </tr>\n",
              "    <tr>\n",
              "      <th>98</th>\n",
              "      <td>8</td>\n",
              "      <td>66</td>\n",
              "      <td>528</td>\n",
              "      <td>1.701948e+08</td>\n",
              "    </tr>\n",
              "    <tr>\n",
              "      <th>99</th>\n",
              "      <td>18</td>\n",
              "      <td>28</td>\n",
              "      <td>504</td>\n",
              "      <td>1.455254e+08</td>\n",
              "    </tr>\n",
              "  </tbody>\n",
              "</table>\n",
              "<p>100 rows × 4 columns</p>\n",
              "</div>"
            ],
            "text/plain": [
              "    width  length  square         price\n",
              "0      28      97    2716  3.350184e+08\n",
              "1      21      62    1302  2.298295e+08\n",
              "2      27      64    1728  2.603552e+08\n",
              "3       5      92     460  2.064708e+08\n",
              "4      13      84    1092  2.339808e+08\n",
              "..    ...     ...     ...           ...\n",
              "95     23      94    2162  3.055955e+08\n",
              "96     10      69     690  1.890808e+08\n",
              "97     11      35     385  1.305380e+08\n",
              "98      8      66     528  1.701948e+08\n",
              "99     18      28     504  1.455254e+08\n",
              "\n",
              "[100 rows x 4 columns]"
            ]
          },
          "metadata": {
            "tags": []
          },
          "execution_count": 66
        }
      ]
    },
    {
      "cell_type": "code",
      "metadata": {
        "id": "8H1qfo6G5aJo",
        "colab": {
          "base_uri": "https://localhost:8080/",
          "height": 307
        },
        "outputId": "5988a685-cc66-4f44-c9f1-c2d117b9ebdb"
      },
      "source": [
        "## vẽ hình\n",
        "plt.scatter(data[\"square\"], data[\"price\"])\n",
        "plt.xlabel(\"square\")\n",
        "plt.ylabel(\"price\")"
      ],
      "execution_count": null,
      "outputs": [
        {
          "output_type": "execute_result",
          "data": {
            "text/plain": [
              "Text(0, 0.5, 'price')"
            ]
          },
          "metadata": {
            "tags": []
          },
          "execution_count": 67
        },
        {
          "output_type": "display_data",
          "data": {
            "image/png": "[encoded data removed]",
            "text/plain": [
              "<Figure size 432x288 with 1 Axes>"
            ]
          },
          "metadata": {
            "tags": [],
            "needs_background": "light"
          }
        }
      ]
    },
    {
      "cell_type": "code",
      "metadata": {
        "id": "MIZODJYb9MtT",
        "colab": {
          "base_uri": "https://localhost:8080/",
          "height": 1000
        },
        "outputId": "d76d6127-7ebc-424f-c2ad-4b206d0ff149"
      },
      "source": [
        "X = data['square'].values    ## trích diện tích thành một mảng numpy\n",
        "X = X.reshape(-1, 1)                     ## chuyển thành ma trận cột\n",
        "print(X)"
      ],
      "execution_count": null,
      "outputs": [
        {
          "output_type": "stream",
          "text": [
            "[[2716]\n",
            " [1302]\n",
            " [1728]\n",
            " [ 460]\n",
            " [1092]\n",
            " [ 372]\n",
            " [ 840]\n",
            " [1584]\n",
            " [2436]\n",
            " [1740]\n",
            " [ 666]\n",
            " [ 640]\n",
            " [1440]\n",
            " [1334]\n",
            " [2494]\n",
            " [1300]\n",
            " [2075]\n",
            " [ 511]\n",
            " [2208]\n",
            " [1495]\n",
            " [1106]\n",
            " [ 759]\n",
            " [ 705]\n",
            " [ 368]\n",
            " [2024]\n",
            " [ 976]\n",
            " [2350]\n",
            " [1344]\n",
            " [ 576]\n",
            " [ 994]\n",
            " [ 780]\n",
            " [ 330]\n",
            " [ 250]\n",
            " [2352]\n",
            " [1764]\n",
            " [ 520]\n",
            " [ 120]\n",
            " [2366]\n",
            " [ 780]\n",
            " [ 874]\n",
            " [ 738]\n",
            " [1620]\n",
            " [1500]\n",
            " [ 390]\n",
            " [1125]\n",
            " [ 225]\n",
            " [ 360]\n",
            " [1245]\n",
            " [ 575]\n",
            " [ 248]\n",
            " [ 520]\n",
            " [2160]\n",
            " [ 651]\n",
            " [ 840]\n",
            " [ 896]\n",
            " [ 816]\n",
            " [ 567]\n",
            " [ 464]\n",
            " [ 594]\n",
            " [1936]\n",
            " [ 576]\n",
            " [ 336]\n",
            " [ 275]\n",
            " [ 576]\n",
            " [ 429]\n",
            " [1248]\n",
            " [ 550]\n",
            " [1170]\n",
            " [ 852]\n",
            " [2208]\n",
            " [1824]\n",
            " [1725]\n",
            " [ 192]\n",
            " [1394]\n",
            " [ 266]\n",
            " [ 429]\n",
            " [ 460]\n",
            " [ 885]\n",
            " [ 260]\n",
            " [1155]\n",
            " [ 265]\n",
            " [ 696]\n",
            " [ 869]\n",
            " [1080]\n",
            " [ 567]\n",
            " [2784]\n",
            " [ 155]\n",
            " [1248]\n",
            " [2093]\n",
            " [ 370]\n",
            " [1216]\n",
            " [ 855]\n",
            " [1518]\n",
            " [1656]\n",
            " [1125]\n",
            " [2162]\n",
            " [ 690]\n",
            " [ 385]\n",
            " [ 528]\n",
            " [ 504]]\n"
          ],
          "name": "stdout"
        }
      ]
    },
    {
      "cell_type": "code",
      "metadata": {
        "id": "MX6Y-PmD9Ufc",
        "colab": {
          "base_uri": "https://localhost:8080/",
          "height": 1000
        },
        "outputId": "fa211eed-b9e9-48ba-e706-05e0d94f79d8"
      },
      "source": [
        "y = data['price'].values   ## Trích giá tiền \n",
        "y = y.reshape(-1,1)\n",
        "print(y)"
      ],
      "execution_count": null,
      "outputs": [
        {
          "output_type": "stream",
          "text": [
            "[[3.35018395e+08]\n",
            " [2.29829483e+08]\n",
            " [2.60355204e+08]\n",
            " [2.06470833e+08]\n",
            " [2.33980800e+08]\n",
            " [1.57997812e+08]\n",
            " [1.89325347e+08]\n",
            " [2.54451672e+08]\n",
            " [3.16428138e+08]\n",
            " [2.68619378e+08]\n",
            " [1.58068762e+08]\n",
            " [1.65332147e+08]\n",
            " [2.66936269e+08]\n",
            " [2.27874121e+08]\n",
            " [3.10921752e+08]\n",
            " [2.31627079e+08]\n",
            " [2.90107455e+08]\n",
            " [1.85581786e+08]\n",
            " [3.07666627e+08]\n",
            " [2.46166457e+08]\n",
            " [2.28809562e+08]\n",
            " [1.80068138e+08]\n",
            " [1.67149033e+08]\n",
            " [1.35610501e+08]\n",
            " [2.89134324e+08]\n",
            " [2.04380493e+08]\n",
            " [3.13369695e+08]\n",
            " [2.32199136e+08]\n",
            " [1.52379224e+08]\n",
            " [2.12333534e+08]\n",
            " [1.84739395e+08]\n",
            " [1.18818723e+08]\n",
            " [9.81202002e+07]\n",
            " [3.02152071e+08]\n",
            " [2.70405845e+08]\n",
            " [1.55082345e+08]\n",
            " [7.25796062e+07]\n",
            " [3.12583608e+08]\n",
            " [1.78042160e+08]\n",
            " [1.92344229e+08]\n",
            " [1.75045759e+08]\n",
            " [2.59603144e+08]\n",
            " [2.48074946e+08]\n",
            " [1.29275028e+08]\n",
            " [2.16369131e+08]\n",
            " [9.35002930e+07]\n",
            " [1.26001241e+08]\n",
            " [2.45155654e+08]\n",
            " [1.67181350e+08]\n",
            " [1.01902846e+08]\n",
            " [1.47264816e+08]\n",
            " [2.92254213e+08]\n",
            " [2.23245922e+08]\n",
            " [1.97218206e+08]\n",
            " [1.93091596e+08]\n",
            " [1.92566887e+08]\n",
            " [1.75973449e+08]\n",
            " [1.59123320e+08]\n",
            " [1.68211188e+08]\n",
            " [2.89638984e+08]\n",
            " [1.58473978e+08]\n",
            " [1.34747079e+08]\n",
            " [1.37408190e+08]\n",
            " [1.84435289e+08]\n",
            " [1.34796263e+08]\n",
            " [2.32638039e+08]\n",
            " [1.59256547e+08]\n",
            " [2.35261316e+08]\n",
            " [2.01402185e+08]\n",
            " [3.05775676e+08]\n",
            " [2.72365944e+08]\n",
            " [2.64179244e+08]\n",
            " [8.67700750e+07]\n",
            " [2.50299843e+08]\n",
            " [1.11794735e+08]\n",
            " [1.36196713e+08]\n",
            " [1.38063861e+08]\n",
            " [1.93163653e+08]\n",
            " [1.03898028e+08]\n",
            " [2.15299575e+08]\n",
            " [1.27164645e+08]\n",
            " [1.86479392e+08]\n",
            " [2.18927839e+08]\n",
            " [2.32797808e+08]\n",
            " [1.60387750e+08]\n",
            " [3.37731463e+08]\n",
            " [8.45852638e+07]\n",
            " [2.61748368e+08]\n",
            " [3.01979780e+08]\n",
            " [1.68406801e+08]\n",
            " [2.33509411e+08]\n",
            " [1.86771878e+08]\n",
            " [2.49694801e+08]\n",
            " [2.56577037e+08]\n",
            " [2.18549569e+08]\n",
            " [3.05595544e+08]\n",
            " [1.89080795e+08]\n",
            " [1.30538023e+08]\n",
            " [1.70194764e+08]\n",
            " [1.45525386e+08]]\n"
          ],
          "name": "stdout"
        }
      ]
    },
    {
      "cell_type": "code",
      "metadata": {
        "id": "uIkCaUcjAKda",
        "colab": {
          "base_uri": "https://localhost:8080/",
          "height": 1000
        },
        "outputId": "3ce42789-3faa-4ee3-e894-1e7fbf3d36a7"
      },
      "source": [
        "Z = np.concatenate([X, np.ones((100,1))], axis=-1)   ## thêm một cột vào sau X và gán vào Z\n",
        "Z = Z.astype(np.float32)                                 ## chuyển sang float\n",
        "print(Z)"
      ],
      "execution_count": null,
      "outputs": [
        {
          "output_type": "stream",
          "text": [
            "[[2.716e+03 1.000e+00]\n",
            " [1.302e+03 1.000e+00]\n",
            " [1.728e+03 1.000e+00]\n",
            " [4.600e+02 1.000e+00]\n",
            " [1.092e+03 1.000e+00]\n",
            " [3.720e+02 1.000e+00]\n",
            " [8.400e+02 1.000e+00]\n",
            " [1.584e+03 1.000e+00]\n",
            " [2.436e+03 1.000e+00]\n",
            " [1.740e+03 1.000e+00]\n",
            " [6.660e+02 1.000e+00]\n",
            " [6.400e+02 1.000e+00]\n",
            " [1.440e+03 1.000e+00]\n",
            " [1.334e+03 1.000e+00]\n",
            " [2.494e+03 1.000e+00]\n",
            " [1.300e+03 1.000e+00]\n",
            " [2.075e+03 1.000e+00]\n",
            " [5.110e+02 1.000e+00]\n",
            " [2.208e+03 1.000e+00]\n",
            " [1.495e+03 1.000e+00]\n",
            " [1.106e+03 1.000e+00]\n",
            " [7.590e+02 1.000e+00]\n",
            " [7.050e+02 1.000e+00]\n",
            " [3.680e+02 1.000e+00]\n",
            " [2.024e+03 1.000e+00]\n",
            " [9.760e+02 1.000e+00]\n",
            " [2.350e+03 1.000e+00]\n",
            " [1.344e+03 1.000e+00]\n",
            " [5.760e+02 1.000e+00]\n",
            " [9.940e+02 1.000e+00]\n",
            " [7.800e+02 1.000e+00]\n",
            " [3.300e+02 1.000e+00]\n",
            " [2.500e+02 1.000e+00]\n",
            " [2.352e+03 1.000e+00]\n",
            " [1.764e+03 1.000e+00]\n",
            " [5.200e+02 1.000e+00]\n",
            " [1.200e+02 1.000e+00]\n",
            " [2.366e+03 1.000e+00]\n",
            " [7.800e+02 1.000e+00]\n",
            " [8.740e+02 1.000e+00]\n",
            " [7.380e+02 1.000e+00]\n",
            " [1.620e+03 1.000e+00]\n",
            " [1.500e+03 1.000e+00]\n",
            " [3.900e+02 1.000e+00]\n",
            " [1.125e+03 1.000e+00]\n",
            " [2.250e+02 1.000e+00]\n",
            " [3.600e+02 1.000e+00]\n",
            " [1.245e+03 1.000e+00]\n",
            " [5.750e+02 1.000e+00]\n",
            " [2.480e+02 1.000e+00]\n",
            " [5.200e+02 1.000e+00]\n",
            " [2.160e+03 1.000e+00]\n",
            " [6.510e+02 1.000e+00]\n",
            " [8.400e+02 1.000e+00]\n",
            " [8.960e+02 1.000e+00]\n",
            " [8.160e+02 1.000e+00]\n",
            " [5.670e+02 1.000e+00]\n",
            " [4.640e+02 1.000e+00]\n",
            " [5.940e+02 1.000e+00]\n",
            " [1.936e+03 1.000e+00]\n",
            " [5.760e+02 1.000e+00]\n",
            " [3.360e+02 1.000e+00]\n",
            " [2.750e+02 1.000e+00]\n",
            " [5.760e+02 1.000e+00]\n",
            " [4.290e+02 1.000e+00]\n",
            " [1.248e+03 1.000e+00]\n",
            " [5.500e+02 1.000e+00]\n",
            " [1.170e+03 1.000e+00]\n",
            " [8.520e+02 1.000e+00]\n",
            " [2.208e+03 1.000e+00]\n",
            " [1.824e+03 1.000e+00]\n",
            " [1.725e+03 1.000e+00]\n",
            " [1.920e+02 1.000e+00]\n",
            " [1.394e+03 1.000e+00]\n",
            " [2.660e+02 1.000e+00]\n",
            " [4.290e+02 1.000e+00]\n",
            " [4.600e+02 1.000e+00]\n",
            " [8.850e+02 1.000e+00]\n",
            " [2.600e+02 1.000e+00]\n",
            " [1.155e+03 1.000e+00]\n",
            " [2.650e+02 1.000e+00]\n",
            " [6.960e+02 1.000e+00]\n",
            " [8.690e+02 1.000e+00]\n",
            " [1.080e+03 1.000e+00]\n",
            " [5.670e+02 1.000e+00]\n",
            " [2.784e+03 1.000e+00]\n",
            " [1.550e+02 1.000e+00]\n",
            " [1.248e+03 1.000e+00]\n",
            " [2.093e+03 1.000e+00]\n",
            " [3.700e+02 1.000e+00]\n",
            " [1.216e+03 1.000e+00]\n",
            " [8.550e+02 1.000e+00]\n",
            " [1.518e+03 1.000e+00]\n",
            " [1.656e+03 1.000e+00]\n",
            " [1.125e+03 1.000e+00]\n",
            " [2.162e+03 1.000e+00]\n",
            " [6.900e+02 1.000e+00]\n",
            " [3.850e+02 1.000e+00]\n",
            " [5.280e+02 1.000e+00]\n",
            " [5.040e+02 1.000e+00]]\n"
          ],
          "name": "stdout"
        }
      ]
    },
    {
      "cell_type": "code",
      "metadata": {
        "id": "BmlgO1YBANbR",
        "colab": {
          "base_uri": "https://localhost:8080/",
          "height": 34
        },
        "outputId": "51139d39-b763-4c49-bc97-3058443053ca"
      },
      "source": [
        "## giá trị a và b tìm được\n",
        "arr = np.matmul(np.matmul(np.linalg.inv(np.matmul(Z.T,Z)), Z.T), y)\n",
        "a = arr[0]\n",
        "b = arr[1]\n",
        "print(a,b)"
      ],
      "execution_count": null,
      "outputs": [
        {
          "output_type": "stream",
          "text": [
            "[90823.58353361] [1.0946373e+08]\n"
          ],
          "name": "stdout"
        }
      ]
    },
    {
      "cell_type": "code",
      "metadata": {
        "id": "1tHkR1IEYVyZ",
        "colab": {
          "base_uri": "https://localhost:8080/",
          "height": 51
        },
        "outputId": "9925fb91-87d6-408d-8cd2-70bf494a5f3e"
      },
      "source": [
        "print(data['square'].min())\n",
        "print(data['square'].max())"
      ],
      "execution_count": null,
      "outputs": [
        {
          "output_type": "stream",
          "text": [
            "120\n",
            "2784\n"
          ],
          "name": "stdout"
        }
      ]
    },
    {
      "cell_type": "code",
      "metadata": {
        "id": "Q-Tsa60UAREL",
        "colab": {
          "base_uri": "https://localhost:8080/",
          "height": 307
        },
        "outputId": "bb9a4626-9342-45de-9b11-098f2ec4f67c"
      },
      "source": [
        "## vẽ hình\n",
        "plt.scatter(data['square'], data[\"price\"])\n",
        "plt.plot(np.arange(100, 2800), 9.08235835e+04*np.arange(100, 2800) + 1.09463730e+08, color ='r')   ## vẽ solution tìm được\n",
        "plt.xlabel(\"Size in feet squared\")\n",
        "plt.ylabel(\"Price in thousand dollar\")"
      ],
      "execution_count": null,
      "outputs": [
        {
          "output_type": "execute_result",
          "data": {
            "text/plain": [
              "Text(0, 0.5, 'Price in thousand dollar')"
            ]
          },
          "metadata": {
            "tags": []
          },
          "execution_count": 110
        },
        {
          "output_type": "display_data",
          "data": {
            "image/png": "[encoded data removed]",
            "text/plain": [
              "<Figure size 432x288 with 1 Axes>"
            ]
          },
          "metadata": {
            "tags": [],
            "needs_background": "light"
          }
        }
      ]
    },
    {
      "cell_type": "code",
      "metadata": {
        "id": "mulrI9NtBpmT"
      },
      "source": [
        "X_train = X\n",
        "y_train = y"
      ],
      "execution_count": null,
      "outputs": []
    },
    {
      "cell_type": "code",
      "metadata": {
        "id": "MEkeWgtFBfwL",
        "colab": {
          "base_uri": "https://localhost:8080/",
          "height": 34
        },
        "outputId": "e801842a-12a0-4426-f3ec-a5fa27dafbd8"
      },
      "source": [
        "from sklearn.linear_model import LinearRegression\n",
        "\n",
        "lin_reg = LinearRegression()\n",
        "lin_reg.fit(X_train, y_train)\n",
        "lin_reg.intercept_, lin_reg.coef_\n",
        "beta0 = lin_reg.intercept_\n",
        "beta1 = lin_reg.coef_\n",
        "print(beta0, beta1)"
      ],
      "execution_count": null,
      "outputs": [
        {
          "output_type": "stream",
          "text": [
            "[1.09463796e+08] [[90823.55228031]]\n"
          ],
          "name": "stdout"
        }
      ]
    },
    {
      "cell_type": "markdown",
      "metadata": {
        "id": "mjX6c_SrDYqG"
      },
      "source": [
        "**Predictive**"
      ]
    },
    {
      "cell_type": "code",
      "metadata": {
        "id": "CWx6JYqICRhz",
        "colab": {
          "base_uri": "https://localhost:8080/",
          "height": 142
        },
        "outputId": "4a05670f-287e-47a6-c9b2-7cc0046dfb9d"
      },
      "source": [
        "data_test = {'width':[5, 20, 10], 'length':[10, 20, 40]} \n",
        "data_test = pd.DataFrame(data_test)\n",
        "data_test"
      ],
      "execution_count": null,
      "outputs": [
        {
          "output_type": "execute_result",
          "data": {
            "text/html": [
              "<div>\n",
              "<style scoped>\n",
              "    .dataframe tbody tr th:only-of-type {\n",
              "        vertical-align: middle;\n",
              "    }\n",
              "\n",
              "    .dataframe tbody tr th {\n",
              "        vertical-align: top;\n",
              "    }\n",
              "\n",
              "    .dataframe thead th {\n",
              "        text-align: right;\n",
              "    }\n",
              "</style>\n",
              "<table border=\"1\" class=\"dataframe\">\n",
              "  <thead>\n",
              "    <tr style=\"text-align: right;\">\n",
              "      <th></th>\n",
              "      <th>width</th>\n",
              "      <th>length</th>\n",
              "    </tr>\n",
              "  </thead>\n",
              "  <tbody>\n",
              "    <tr>\n",
              "      <th>0</th>\n",
              "      <td>5</td>\n",
              "      <td>10</td>\n",
              "    </tr>\n",
              "    <tr>\n",
              "      <th>1</th>\n",
              "      <td>20</td>\n",
              "      <td>20</td>\n",
              "    </tr>\n",
              "    <tr>\n",
              "      <th>2</th>\n",
              "      <td>10</td>\n",
              "      <td>40</td>\n",
              "    </tr>\n",
              "  </tbody>\n",
              "</table>\n",
              "</div>"
            ],
            "text/plain": [
              "   width  length\n",
              "0      5      10\n",
              "1     20      20\n",
              "2     10      40"
            ]
          },
          "metadata": {
            "tags": []
          },
          "execution_count": 92
        }
      ]
    },
    {
      "cell_type": "code",
      "metadata": {
        "id": "x4GBop9-DMyT",
        "colab": {
          "base_uri": "https://localhost:8080/",
          "height": 142
        },
        "outputId": "d24ffb0d-311a-4f45-9b9f-3504c8f9f941"
      },
      "source": [
        "data_test['square'] = data_test['width']*data_test['length']\n",
        "data_test['price_pred'] = a*data_test['square'] + b\n",
        "data_test"
      ],
      "execution_count": null,
      "outputs": [
        {
          "output_type": "execute_result",
          "data": {
            "text/html": [
              "<div>\n",
              "<style scoped>\n",
              "    .dataframe tbody tr th:only-of-type {\n",
              "        vertical-align: middle;\n",
              "    }\n",
              "\n",
              "    .dataframe tbody tr th {\n",
              "        vertical-align: top;\n",
              "    }\n",
              "\n",
              "    .dataframe thead th {\n",
              "        text-align: right;\n",
              "    }\n",
              "</style>\n",
              "<table border=\"1\" class=\"dataframe\">\n",
              "  <thead>\n",
              "    <tr style=\"text-align: right;\">\n",
              "      <th></th>\n",
              "      <th>width</th>\n",
              "      <th>length</th>\n",
              "      <th>square</th>\n",
              "      <th>price_pred</th>\n",
              "    </tr>\n",
              "  </thead>\n",
              "  <tbody>\n",
              "    <tr>\n",
              "      <th>0</th>\n",
              "      <td>5</td>\n",
              "      <td>10</td>\n",
              "      <td>50</td>\n",
              "      <td>1.140049e+08</td>\n",
              "    </tr>\n",
              "    <tr>\n",
              "      <th>1</th>\n",
              "      <td>20</td>\n",
              "      <td>20</td>\n",
              "      <td>400</td>\n",
              "      <td>1.457932e+08</td>\n",
              "    </tr>\n",
              "    <tr>\n",
              "      <th>2</th>\n",
              "      <td>10</td>\n",
              "      <td>40</td>\n",
              "      <td>400</td>\n",
              "      <td>1.457932e+08</td>\n",
              "    </tr>\n",
              "  </tbody>\n",
              "</table>\n",
              "</div>"
            ],
            "text/plain": [
              "   width  length  square    price_pred\n",
              "0      5      10      50  1.140049e+08\n",
              "1     20      20     400  1.457932e+08\n",
              "2     10      40     400  1.457932e+08"
            ]
          },
          "metadata": {
            "tags": []
          },
          "execution_count": 93
        }
      ]
    },
    {
      "cell_type": "code",
      "metadata": {
        "id": "crMhiUSXIjbL"
      },
      "source": [
        "X_test = data_test['square'].values\n",
        "X_test = X_test.reshape(-1, 1)"
      ],
      "execution_count": null,
      "outputs": []
    },
    {
      "cell_type": "code",
      "metadata": {
        "id": "WlXh2bCuIh1G",
        "colab": {
          "base_uri": "https://localhost:8080/",
          "height": 68
        },
        "outputId": "e8eef824-476b-46a7-f690-fa3df5cccb7d"
      },
      "source": [
        "y_pred = lin_reg.predict(X_test)\n",
        "y_pred"
      ],
      "execution_count": null,
      "outputs": [
        {
          "output_type": "execute_result",
          "data": {
            "text/plain": [
              "array([[1.14004973e+08],\n",
              "       [1.45793217e+08],\n",
              "       [1.45793217e+08]])"
            ]
          },
          "metadata": {
            "tags": []
          },
          "execution_count": 97
        }
      ]
    }
  ]
}