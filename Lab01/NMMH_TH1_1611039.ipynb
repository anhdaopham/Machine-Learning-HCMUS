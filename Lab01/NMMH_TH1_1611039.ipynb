{
  "nbformat": 4,
  "nbformat_minor": 0,
  "metadata": {
    "colab": {
      "name": "NMMH_TH1_1611039.ipynb",
      "provenance": [],
      "collapsed_sections": []
    },
    "kernelspec": {
      "name": "python3",
      "display_name": "Python 3"
    }
  },
  "cells": [
    {
      "cell_type": "code",
      "metadata": {
        "id": "pgQWNl0IQXcf",
        "colab_type": "code",
        "colab": {}
      },
      "source": [
        "import pandas as pd\n",
        "import numpy as np\n",
        "import matplotlib.pyplot as plt"
      ],
      "execution_count": 0,
      "outputs": []
    },
    {
      "cell_type": "code",
      "metadata": {
        "id": "HzWVeB7tQj1r",
        "colab_type": "code",
        "colab": {
          "base_uri": "https://localhost:8080/",
          "height": 122
        },
        "outputId": "bd712f22-b334-47c8-bfe4-de49fa6cbad7"
      },
      "source": [
        "from google.colab import drive\n",
        "drive.mount('/content/gdrive')\n",
        "path = \"gdrive/My Drive/Machine Learning/Lab01\""
      ],
      "execution_count": 2,
      "outputs": [
        {
          "output_type": "stream",
          "text": [
            "Go to this URL in a browser: https://accounts.google.com/o/oauth2/auth?client_id=947318989803-6bn6qk8qdgf4n4g3pfee6491hc0brc4i.apps.googleusercontent.com&redirect_uri=urn%3aietf%3awg%3aoauth%3a2.0%3aoob&response_type=code&scope=email%20https%3a%2f%2fwww.googleapis.com%2fauth%2fdocs.test%20https%3a%2f%2fwww.googleapis.com%2fauth%2fdrive%20https%3a%2f%2fwww.googleapis.com%2fauth%2fdrive.photos.readonly%20https%3a%2f%2fwww.googleapis.com%2fauth%2fpeopleapi.readonly\n",
            "\n",
            "Enter your authorization code:\n",
            "··········\n",
            "Mounted at /content/gdrive\n"
          ],
          "name": "stdout"
        }
      ]
    },
    {
      "cell_type": "code",
      "metadata": {
        "id": "5FQzVh2yQldK",
        "colab_type": "code",
        "colab": {
          "base_uri": "https://localhost:8080/",
          "height": 419
        },
        "outputId": "f6c30eed-af05-4858-a82e-7ce14aede92e"
      },
      "source": [
        "data = pd.read_csv(path + \"/House_Price_2.csv\")\n",
        "data"
      ],
      "execution_count": 3,
      "outputs": [
        {
          "output_type": "execute_result",
          "data": {
            "text/html": [
              "<div>\n",
              "<style scoped>\n",
              "    .dataframe tbody tr th:only-of-type {\n",
              "        vertical-align: middle;\n",
              "    }\n",
              "\n",
              "    .dataframe tbody tr th {\n",
              "        vertical-align: top;\n",
              "    }\n",
              "\n",
              "    .dataframe thead th {\n",
              "        text-align: right;\n",
              "    }\n",
              "</style>\n",
              "<table border=\"1\" class=\"dataframe\">\n",
              "  <thead>\n",
              "    <tr style=\"text-align: right;\">\n",
              "      <th></th>\n",
              "      <th>width</th>\n",
              "      <th>length</th>\n",
              "      <th>price</th>\n",
              "    </tr>\n",
              "  </thead>\n",
              "  <tbody>\n",
              "    <tr>\n",
              "      <th>0</th>\n",
              "      <td>28</td>\n",
              "      <td>97</td>\n",
              "      <td>3.350184e+08</td>\n",
              "    </tr>\n",
              "    <tr>\n",
              "      <th>1</th>\n",
              "      <td>21</td>\n",
              "      <td>62</td>\n",
              "      <td>2.298295e+08</td>\n",
              "    </tr>\n",
              "    <tr>\n",
              "      <th>2</th>\n",
              "      <td>27</td>\n",
              "      <td>64</td>\n",
              "      <td>2.603552e+08</td>\n",
              "    </tr>\n",
              "    <tr>\n",
              "      <th>3</th>\n",
              "      <td>5</td>\n",
              "      <td>92</td>\n",
              "      <td>2.064708e+08</td>\n",
              "    </tr>\n",
              "    <tr>\n",
              "      <th>4</th>\n",
              "      <td>13</td>\n",
              "      <td>84</td>\n",
              "      <td>2.339808e+08</td>\n",
              "    </tr>\n",
              "    <tr>\n",
              "      <th>...</th>\n",
              "      <td>...</td>\n",
              "      <td>...</td>\n",
              "      <td>...</td>\n",
              "    </tr>\n",
              "    <tr>\n",
              "      <th>95</th>\n",
              "      <td>23</td>\n",
              "      <td>94</td>\n",
              "      <td>3.055955e+08</td>\n",
              "    </tr>\n",
              "    <tr>\n",
              "      <th>96</th>\n",
              "      <td>10</td>\n",
              "      <td>69</td>\n",
              "      <td>1.890808e+08</td>\n",
              "    </tr>\n",
              "    <tr>\n",
              "      <th>97</th>\n",
              "      <td>11</td>\n",
              "      <td>35</td>\n",
              "      <td>1.305380e+08</td>\n",
              "    </tr>\n",
              "    <tr>\n",
              "      <th>98</th>\n",
              "      <td>8</td>\n",
              "      <td>66</td>\n",
              "      <td>1.701948e+08</td>\n",
              "    </tr>\n",
              "    <tr>\n",
              "      <th>99</th>\n",
              "      <td>18</td>\n",
              "      <td>28</td>\n",
              "      <td>1.455254e+08</td>\n",
              "    </tr>\n",
              "  </tbody>\n",
              "</table>\n",
              "<p>100 rows × 3 columns</p>\n",
              "</div>"
            ],
            "text/plain": [
              "    width  length         price\n",
              "0      28      97  3.350184e+08\n",
              "1      21      62  2.298295e+08\n",
              "2      27      64  2.603552e+08\n",
              "3       5      92  2.064708e+08\n",
              "4      13      84  2.339808e+08\n",
              "..    ...     ...           ...\n",
              "95     23      94  3.055955e+08\n",
              "96     10      69  1.890808e+08\n",
              "97     11      35  1.305380e+08\n",
              "98      8      66  1.701948e+08\n",
              "99     18      28  1.455254e+08\n",
              "\n",
              "[100 rows x 3 columns]"
            ]
          },
          "metadata": {
            "tags": []
          },
          "execution_count": 3
        }
      ]
    },
    {
      "cell_type": "code",
      "metadata": {
        "id": "aYfrlqBDQprg",
        "colab_type": "code",
        "colab": {}
      },
      "source": [
        "data[\"square\"] = data['width']*data['length'] # tạo thêm 1 column mới là diện tích nhà"
      ],
      "execution_count": 0,
      "outputs": []
    },
    {
      "cell_type": "code",
      "metadata": {
        "id": "xJL9xVoxQvqR",
        "colab_type": "code",
        "colab": {
          "base_uri": "https://localhost:8080/",
          "height": 419
        },
        "outputId": "52be64f7-61c7-419a-ca9c-4ca7cf26e682"
      },
      "source": [
        "data = data[['width', 'length', 'square', 'price']] #thay đổi vị trí của các cột trong dataframe\n",
        "data"
      ],
      "execution_count": 5,
      "outputs": [
        {
          "output_type": "execute_result",
          "data": {
            "text/html": [
              "<div>\n",
              "<style scoped>\n",
              "    .dataframe tbody tr th:only-of-type {\n",
              "        vertical-align: middle;\n",
              "    }\n",
              "\n",
              "    .dataframe tbody tr th {\n",
              "        vertical-align: top;\n",
              "    }\n",
              "\n",
              "    .dataframe thead th {\n",
              "        text-align: right;\n",
              "    }\n",
              "</style>\n",
              "<table border=\"1\" class=\"dataframe\">\n",
              "  <thead>\n",
              "    <tr style=\"text-align: right;\">\n",
              "      <th></th>\n",
              "      <th>width</th>\n",
              "      <th>length</th>\n",
              "      <th>square</th>\n",
              "      <th>price</th>\n",
              "    </tr>\n",
              "  </thead>\n",
              "  <tbody>\n",
              "    <tr>\n",
              "      <th>0</th>\n",
              "      <td>28</td>\n",
              "      <td>97</td>\n",
              "      <td>2716</td>\n",
              "      <td>3.350184e+08</td>\n",
              "    </tr>\n",
              "    <tr>\n",
              "      <th>1</th>\n",
              "      <td>21</td>\n",
              "      <td>62</td>\n",
              "      <td>1302</td>\n",
              "      <td>2.298295e+08</td>\n",
              "    </tr>\n",
              "    <tr>\n",
              "      <th>2</th>\n",
              "      <td>27</td>\n",
              "      <td>64</td>\n",
              "      <td>1728</td>\n",
              "      <td>2.603552e+08</td>\n",
              "    </tr>\n",
              "    <tr>\n",
              "      <th>3</th>\n",
              "      <td>5</td>\n",
              "      <td>92</td>\n",
              "      <td>460</td>\n",
              "      <td>2.064708e+08</td>\n",
              "    </tr>\n",
              "    <tr>\n",
              "      <th>4</th>\n",
              "      <td>13</td>\n",
              "      <td>84</td>\n",
              "      <td>1092</td>\n",
              "      <td>2.339808e+08</td>\n",
              "    </tr>\n",
              "    <tr>\n",
              "      <th>...</th>\n",
              "      <td>...</td>\n",
              "      <td>...</td>\n",
              "      <td>...</td>\n",
              "      <td>...</td>\n",
              "    </tr>\n",
              "    <tr>\n",
              "      <th>95</th>\n",
              "      <td>23</td>\n",
              "      <td>94</td>\n",
              "      <td>2162</td>\n",
              "      <td>3.055955e+08</td>\n",
              "    </tr>\n",
              "    <tr>\n",
              "      <th>96</th>\n",
              "      <td>10</td>\n",
              "      <td>69</td>\n",
              "      <td>690</td>\n",
              "      <td>1.890808e+08</td>\n",
              "    </tr>\n",
              "    <tr>\n",
              "      <th>97</th>\n",
              "      <td>11</td>\n",
              "      <td>35</td>\n",
              "      <td>385</td>\n",
              "      <td>1.305380e+08</td>\n",
              "    </tr>\n",
              "    <tr>\n",
              "      <th>98</th>\n",
              "      <td>8</td>\n",
              "      <td>66</td>\n",
              "      <td>528</td>\n",
              "      <td>1.701948e+08</td>\n",
              "    </tr>\n",
              "    <tr>\n",
              "      <th>99</th>\n",
              "      <td>18</td>\n",
              "      <td>28</td>\n",
              "      <td>504</td>\n",
              "      <td>1.455254e+08</td>\n",
              "    </tr>\n",
              "  </tbody>\n",
              "</table>\n",
              "<p>100 rows × 4 columns</p>\n",
              "</div>"
            ],
            "text/plain": [
              "    width  length  square         price\n",
              "0      28      97    2716  3.350184e+08\n",
              "1      21      62    1302  2.298295e+08\n",
              "2      27      64    1728  2.603552e+08\n",
              "3       5      92     460  2.064708e+08\n",
              "4      13      84    1092  2.339808e+08\n",
              "..    ...     ...     ...           ...\n",
              "95     23      94    2162  3.055955e+08\n",
              "96     10      69     690  1.890808e+08\n",
              "97     11      35     385  1.305380e+08\n",
              "98      8      66     528  1.701948e+08\n",
              "99     18      28     504  1.455254e+08\n",
              "\n",
              "[100 rows x 4 columns]"
            ]
          },
          "metadata": {
            "tags": []
          },
          "execution_count": 5
        }
      ]
    },
    {
      "cell_type": "code",
      "metadata": {
        "id": "R6XEVKWdQ1Vz",
        "colab_type": "code",
        "colab": {
          "base_uri": "https://localhost:8080/",
          "height": 307
        },
        "outputId": "7501dd3c-9c54-4fe9-be4b-1ef20f88e34e"
      },
      "source": [
        "# vẽ hình\n",
        "plt.scatter(data[\"square\"], data[\"price\"])\n",
        "plt.xlabel(\"square\")\n",
        "plt.ylabel(\"price\")"
      ],
      "execution_count": 6,
      "outputs": [
        {
          "output_type": "execute_result",
          "data": {
            "text/plain": [
              "Text(0, 0.5, 'price')"
            ]
          },
          "metadata": {
            "tags": []
          },
          "execution_count": 6
        },
        {
          "output_type": "display_data",
          "data": {
            "image/png": "[encoded data removed]",
            "text/plain": [
              "<Figure size 432x288 with 1 Axes>"
            ]
          },
          "metadata": {
            "tags": [],
            "needs_background": "light"
          }
        }
      ]
    },
    {
      "cell_type": "code",
      "metadata": {
        "id": "RJ13m3E5RjjI",
        "colab_type": "code",
        "colab": {
          "base_uri": "https://localhost:8080/",
          "height": 1000
        },
        "outputId": "cf84e1b6-8100-47cb-e7dd-1cff4a388a5e"
      },
      "source": [
        "X = data['square'].values    ## trích diện tích thành một mảng numpy\n",
        "X = X.reshape(-1, 1)                     ## chuyển thành ma trận cột\n",
        "print(X)"
      ],
      "execution_count": 7,
      "outputs": [
        {
          "output_type": "stream",
          "text": [
            "[[2716]\n",
            " [1302]\n",
            " [1728]\n",
            " [ 460]\n",
            " [1092]\n",
            " [ 372]\n",
            " [ 840]\n",
            " [1584]\n",
            " [2436]\n",
            " [1740]\n",
            " [ 666]\n",
            " [ 640]\n",
            " [1440]\n",
            " [1334]\n",
            " [2494]\n",
            " [1300]\n",
            " [2075]\n",
            " [ 511]\n",
            " [2208]\n",
            " [1495]\n",
            " [1106]\n",
            " [ 759]\n",
            " [ 705]\n",
            " [ 368]\n",
            " [2024]\n",
            " [ 976]\n",
            " [2350]\n",
            " [1344]\n",
            " [ 576]\n",
            " [ 994]\n",
            " [ 780]\n",
            " [ 330]\n",
            " [ 250]\n",
            " [2352]\n",
            " [1764]\n",
            " [ 520]\n",
            " [ 120]\n",
            " [2366]\n",
            " [ 780]\n",
            " [ 874]\n",
            " [ 738]\n",
            " [1620]\n",
            " [1500]\n",
            " [ 390]\n",
            " [1125]\n",
            " [ 225]\n",
            " [ 360]\n",
            " [1245]\n",
            " [ 575]\n",
            " [ 248]\n",
            " [ 520]\n",
            " [2160]\n",
            " [ 651]\n",
            " [ 840]\n",
            " [ 896]\n",
            " [ 816]\n",
            " [ 567]\n",
            " [ 464]\n",
            " [ 594]\n",
            " [1936]\n",
            " [ 576]\n",
            " [ 336]\n",
            " [ 275]\n",
            " [ 576]\n",
            " [ 429]\n",
            " [1248]\n",
            " [ 550]\n",
            " [1170]\n",
            " [ 852]\n",
            " [2208]\n",
            " [1824]\n",
            " [1725]\n",
            " [ 192]\n",
            " [1394]\n",
            " [ 266]\n",
            " [ 429]\n",
            " [ 460]\n",
            " [ 885]\n",
            " [ 260]\n",
            " [1155]\n",
            " [ 265]\n",
            " [ 696]\n",
            " [ 869]\n",
            " [1080]\n",
            " [ 567]\n",
            " [2784]\n",
            " [ 155]\n",
            " [1248]\n",
            " [2093]\n",
            " [ 370]\n",
            " [1216]\n",
            " [ 855]\n",
            " [1518]\n",
            " [1656]\n",
            " [1125]\n",
            " [2162]\n",
            " [ 690]\n",
            " [ 385]\n",
            " [ 528]\n",
            " [ 504]]\n"
          ],
          "name": "stdout"
        }
      ]
    },
    {
      "cell_type": "code",
      "metadata": {
        "id": "jX9qm9woRnAH",
        "colab_type": "code",
        "colab": {
          "base_uri": "https://localhost:8080/",
          "height": 1000
        },
        "outputId": "de0aa86c-17e2-4eed-e36a-e3e95992c44a"
      },
      "source": [
        "y = data['price'].values   ## Trích giá tiền \n",
        "y = y.reshape(-1,1)\n",
        "print(y)"
      ],
      "execution_count": 8,
      "outputs": [
        {
          "output_type": "stream",
          "text": [
            "[[3.35018395e+08]\n",
            " [2.29829483e+08]\n",
            " [2.60355204e+08]\n",
            " [2.06470833e+08]\n",
            " [2.33980800e+08]\n",
            " [1.57997812e+08]\n",
            " [1.89325347e+08]\n",
            " [2.54451672e+08]\n",
            " [3.16428138e+08]\n",
            " [2.68619378e+08]\n",
            " [1.58068762e+08]\n",
            " [1.65332147e+08]\n",
            " [2.66936269e+08]\n",
            " [2.27874121e+08]\n",
            " [3.10921752e+08]\n",
            " [2.31627079e+08]\n",
            " [2.90107455e+08]\n",
            " [1.85581786e+08]\n",
            " [3.07666627e+08]\n",
            " [2.46166457e+08]\n",
            " [2.28809562e+08]\n",
            " [1.80068138e+08]\n",
            " [1.67149033e+08]\n",
            " [1.35610501e+08]\n",
            " [2.89134324e+08]\n",
            " [2.04380493e+08]\n",
            " [3.13369695e+08]\n",
            " [2.32199136e+08]\n",
            " [1.52379224e+08]\n",
            " [2.12333534e+08]\n",
            " [1.84739395e+08]\n",
            " [1.18818723e+08]\n",
            " [9.81202002e+07]\n",
            " [3.02152071e+08]\n",
            " [2.70405845e+08]\n",
            " [1.55082345e+08]\n",
            " [7.25796062e+07]\n",
            " [3.12583608e+08]\n",
            " [1.78042160e+08]\n",
            " [1.92344229e+08]\n",
            " [1.75045759e+08]\n",
            " [2.59603144e+08]\n",
            " [2.48074946e+08]\n",
            " [1.29275028e+08]\n",
            " [2.16369131e+08]\n",
            " [9.35002930e+07]\n",
            " [1.26001241e+08]\n",
            " [2.45155654e+08]\n",
            " [1.67181350e+08]\n",
            " [1.01902846e+08]\n",
            " [1.47264816e+08]\n",
            " [2.92254213e+08]\n",
            " [2.23245922e+08]\n",
            " [1.97218206e+08]\n",
            " [1.93091596e+08]\n",
            " [1.92566887e+08]\n",
            " [1.75973449e+08]\n",
            " [1.59123320e+08]\n",
            " [1.68211188e+08]\n",
            " [2.89638984e+08]\n",
            " [1.58473978e+08]\n",
            " [1.34747079e+08]\n",
            " [1.37408190e+08]\n",
            " [1.84435289e+08]\n",
            " [1.34796263e+08]\n",
            " [2.32638039e+08]\n",
            " [1.59256547e+08]\n",
            " [2.35261316e+08]\n",
            " [2.01402185e+08]\n",
            " [3.05775676e+08]\n",
            " [2.72365944e+08]\n",
            " [2.64179244e+08]\n",
            " [8.67700750e+07]\n",
            " [2.50299843e+08]\n",
            " [1.11794735e+08]\n",
            " [1.36196713e+08]\n",
            " [1.38063861e+08]\n",
            " [1.93163653e+08]\n",
            " [1.03898028e+08]\n",
            " [2.15299575e+08]\n",
            " [1.27164645e+08]\n",
            " [1.86479392e+08]\n",
            " [2.18927839e+08]\n",
            " [2.32797808e+08]\n",
            " [1.60387750e+08]\n",
            " [3.37731463e+08]\n",
            " [8.45852638e+07]\n",
            " [2.61748368e+08]\n",
            " [3.01979780e+08]\n",
            " [1.68406801e+08]\n",
            " [2.33509411e+08]\n",
            " [1.86771878e+08]\n",
            " [2.49694801e+08]\n",
            " [2.56577037e+08]\n",
            " [2.18549569e+08]\n",
            " [3.05595544e+08]\n",
            " [1.89080795e+08]\n",
            " [1.30538023e+08]\n",
            " [1.70194764e+08]\n",
            " [1.45525386e+08]]\n"
          ],
          "name": "stdout"
        }
      ]
    },
    {
      "cell_type": "code",
      "metadata": {
        "id": "3rxO9EOjRnlR",
        "colab_type": "code",
        "colab": {
          "base_uri": "https://localhost:8080/",
          "height": 1000
        },
        "outputId": "8bcbfa6f-13b3-4eac-f6dc-e03187a01114"
      },
      "source": [
        "Z = np.concatenate([X, np.ones((100,1))], axis=-1)   ## thêm một cột vào sau X và gán vào Z\n",
        "Z = Z.astype(np.float32)                                 ## chuyển sang float\n",
        "print(Z)"
      ],
      "execution_count": 9,
      "outputs": [
        {
          "output_type": "stream",
          "text": [
            "[[2.716e+03 1.000e+00]\n",
            " [1.302e+03 1.000e+00]\n",
            " [1.728e+03 1.000e+00]\n",
            " [4.600e+02 1.000e+00]\n",
            " [1.092e+03 1.000e+00]\n",
            " [3.720e+02 1.000e+00]\n",
            " [8.400e+02 1.000e+00]\n",
            " [1.584e+03 1.000e+00]\n",
            " [2.436e+03 1.000e+00]\n",
            " [1.740e+03 1.000e+00]\n",
            " [6.660e+02 1.000e+00]\n",
            " [6.400e+02 1.000e+00]\n",
            " [1.440e+03 1.000e+00]\n",
            " [1.334e+03 1.000e+00]\n",
            " [2.494e+03 1.000e+00]\n",
            " [1.300e+03 1.000e+00]\n",
            " [2.075e+03 1.000e+00]\n",
            " [5.110e+02 1.000e+00]\n",
            " [2.208e+03 1.000e+00]\n",
            " [1.495e+03 1.000e+00]\n",
            " [1.106e+03 1.000e+00]\n",
            " [7.590e+02 1.000e+00]\n",
            " [7.050e+02 1.000e+00]\n",
            " [3.680e+02 1.000e+00]\n",
            " [2.024e+03 1.000e+00]\n",
            " [9.760e+02 1.000e+00]\n",
            " [2.350e+03 1.000e+00]\n",
            " [1.344e+03 1.000e+00]\n",
            " [5.760e+02 1.000e+00]\n",
            " [9.940e+02 1.000e+00]\n",
            " [7.800e+02 1.000e+00]\n",
            " [3.300e+02 1.000e+00]\n",
            " [2.500e+02 1.000e+00]\n",
            " [2.352e+03 1.000e+00]\n",
            " [1.764e+03 1.000e+00]\n",
            " [5.200e+02 1.000e+00]\n",
            " [1.200e+02 1.000e+00]\n",
            " [2.366e+03 1.000e+00]\n",
            " [7.800e+02 1.000e+00]\n",
            " [8.740e+02 1.000e+00]\n",
            " [7.380e+02 1.000e+00]\n",
            " [1.620e+03 1.000e+00]\n",
            " [1.500e+03 1.000e+00]\n",
            " [3.900e+02 1.000e+00]\n",
            " [1.125e+03 1.000e+00]\n",
            " [2.250e+02 1.000e+00]\n",
            " [3.600e+02 1.000e+00]\n",
            " [1.245e+03 1.000e+00]\n",
            " [5.750e+02 1.000e+00]\n",
            " [2.480e+02 1.000e+00]\n",
            " [5.200e+02 1.000e+00]\n",
            " [2.160e+03 1.000e+00]\n",
            " [6.510e+02 1.000e+00]\n",
            " [8.400e+02 1.000e+00]\n",
            " [8.960e+02 1.000e+00]\n",
            " [8.160e+02 1.000e+00]\n",
            " [5.670e+02 1.000e+00]\n",
            " [4.640e+02 1.000e+00]\n",
            " [5.940e+02 1.000e+00]\n",
            " [1.936e+03 1.000e+00]\n",
            " [5.760e+02 1.000e+00]\n",
            " [3.360e+02 1.000e+00]\n",
            " [2.750e+02 1.000e+00]\n",
            " [5.760e+02 1.000e+00]\n",
            " [4.290e+02 1.000e+00]\n",
            " [1.248e+03 1.000e+00]\n",
            " [5.500e+02 1.000e+00]\n",
            " [1.170e+03 1.000e+00]\n",
            " [8.520e+02 1.000e+00]\n",
            " [2.208e+03 1.000e+00]\n",
            " [1.824e+03 1.000e+00]\n",
            " [1.725e+03 1.000e+00]\n",
            " [1.920e+02 1.000e+00]\n",
            " [1.394e+03 1.000e+00]\n",
            " [2.660e+02 1.000e+00]\n",
            " [4.290e+02 1.000e+00]\n",
            " [4.600e+02 1.000e+00]\n",
            " [8.850e+02 1.000e+00]\n",
            " [2.600e+02 1.000e+00]\n",
            " [1.155e+03 1.000e+00]\n",
            " [2.650e+02 1.000e+00]\n",
            " [6.960e+02 1.000e+00]\n",
            " [8.690e+02 1.000e+00]\n",
            " [1.080e+03 1.000e+00]\n",
            " [5.670e+02 1.000e+00]\n",
            " [2.784e+03 1.000e+00]\n",
            " [1.550e+02 1.000e+00]\n",
            " [1.248e+03 1.000e+00]\n",
            " [2.093e+03 1.000e+00]\n",
            " [3.700e+02 1.000e+00]\n",
            " [1.216e+03 1.000e+00]\n",
            " [8.550e+02 1.000e+00]\n",
            " [1.518e+03 1.000e+00]\n",
            " [1.656e+03 1.000e+00]\n",
            " [1.125e+03 1.000e+00]\n",
            " [2.162e+03 1.000e+00]\n",
            " [6.900e+02 1.000e+00]\n",
            " [3.850e+02 1.000e+00]\n",
            " [5.280e+02 1.000e+00]\n",
            " [5.040e+02 1.000e+00]]\n"
          ],
          "name": "stdout"
        }
      ]
    },
    {
      "cell_type": "code",
      "metadata": {
        "id": "ohBuGRziRp_z",
        "colab_type": "code",
        "colab": {
          "base_uri": "https://localhost:8080/",
          "height": 34
        },
        "outputId": "85a39bf6-ccbf-4859-80d5-becd323eddb2"
      },
      "source": [
        "# Giá trị a và b tìm được\n",
        "arr = np.matmul(np.matmul(np.linalg.inv(np.matmul(Z.T,Z)), Z.T), y)\n",
        "a = arr[0]\n",
        "b = arr[1]\n",
        "print(a,b)"
      ],
      "execution_count": 10,
      "outputs": [
        {
          "output_type": "stream",
          "text": [
            "[90823.58353361] [1.0946373e+08]\n"
          ],
          "name": "stdout"
        }
      ]
    },
    {
      "cell_type": "code",
      "metadata": {
        "id": "plB4j9LvYpZe",
        "colab_type": "code",
        "colab": {
          "base_uri": "https://localhost:8080/",
          "height": 51
        },
        "outputId": "391287bb-432e-4814-9f72-b50513abf9b2"
      },
      "source": [
        "print(data['square'].min())\n",
        "print(data['square'].max())"
      ],
      "execution_count": 15,
      "outputs": [
        {
          "output_type": "stream",
          "text": [
            "120\n",
            "2784\n"
          ],
          "name": "stdout"
        }
      ]
    },
    {
      "cell_type": "code",
      "metadata": {
        "id": "25iDLAH2RtLX",
        "colab_type": "code",
        "colab": {
          "base_uri": "https://localhost:8080/",
          "height": 307
        },
        "outputId": "0ad5a032-dd8e-4e16-9c1e-ed7bba045fe5"
      },
      "source": [
        "# vẽ hình\n",
        "plt.scatter(data['square'], data[\"price\"])\n",
        "plt.plot(np.arange(100, 2800), 9.08235835e+04*np.arange(100, 2800) + 1.09463730e+08, color ='r')   ## vẽ solution tìm được\n",
        "plt.xlabel(\"square\")\n",
        "plt.ylabel(\"price\")"
      ],
      "execution_count": 16,
      "outputs": [
        {
          "output_type": "execute_result",
          "data": {
            "text/plain": [
              "Text(0, 0.5, 'price')"
            ]
          },
          "metadata": {
            "tags": []
          },
          "execution_count": 16
        },
        {
          "output_type": "display_data",
          "data": {
            "image/png": "[encoded data removed]",
            "text/plain": [
              "<Figure size 432x288 with 1 Axes>"
            ]
          },
          "metadata": {
            "tags": [],
            "needs_background": "light"
          }
        }
      ]
    },
    {
      "cell_type": "markdown",
      "metadata": {
        "id": "Q9rSmKJ6R-Uz",
        "colab_type": "text"
      },
      "source": [
        "**Predictive**"
      ]
    },
    {
      "cell_type": "code",
      "metadata": {
        "id": "5ovyGif8RvVO",
        "colab_type": "code",
        "colab": {
          "base_uri": "https://localhost:8080/",
          "height": 142
        },
        "outputId": "1014f197-c35e-4d9b-8829-574b8942d93a"
      },
      "source": [
        "data_test = {'width':[5, 20, 10], 'length':[10, 20, 40]} \n",
        "data_test = pd.DataFrame(data_test)\n",
        "data_test"
      ],
      "execution_count": 12,
      "outputs": [
        {
          "output_type": "execute_result",
          "data": {
            "text/html": [
              "<div>\n",
              "<style scoped>\n",
              "    .dataframe tbody tr th:only-of-type {\n",
              "        vertical-align: middle;\n",
              "    }\n",
              "\n",
              "    .dataframe tbody tr th {\n",
              "        vertical-align: top;\n",
              "    }\n",
              "\n",
              "    .dataframe thead th {\n",
              "        text-align: right;\n",
              "    }\n",
              "</style>\n",
              "<table border=\"1\" class=\"dataframe\">\n",
              "  <thead>\n",
              "    <tr style=\"text-align: right;\">\n",
              "      <th></th>\n",
              "      <th>width</th>\n",
              "      <th>length</th>\n",
              "    </tr>\n",
              "  </thead>\n",
              "  <tbody>\n",
              "    <tr>\n",
              "      <th>0</th>\n",
              "      <td>5</td>\n",
              "      <td>10</td>\n",
              "    </tr>\n",
              "    <tr>\n",
              "      <th>1</th>\n",
              "      <td>20</td>\n",
              "      <td>20</td>\n",
              "    </tr>\n",
              "    <tr>\n",
              "      <th>2</th>\n",
              "      <td>10</td>\n",
              "      <td>40</td>\n",
              "    </tr>\n",
              "  </tbody>\n",
              "</table>\n",
              "</div>"
            ],
            "text/plain": [
              "   width  length\n",
              "0      5      10\n",
              "1     20      20\n",
              "2     10      40"
            ]
          },
          "metadata": {
            "tags": []
          },
          "execution_count": 12
        }
      ]
    },
    {
      "cell_type": "code",
      "metadata": {
        "id": "6hJMUjbLSB-p",
        "colab_type": "code",
        "colab": {
          "base_uri": "https://localhost:8080/",
          "height": 142
        },
        "outputId": "ac80ac60-c020-4a10-9307-24acb32aeed5"
      },
      "source": [
        "data_test['square'] = data_test['width']*data_test['length']\n",
        "data_test['price_pred'] = a*data_test['square'] + b\n",
        "data_test"
      ],
      "execution_count": 13,
      "outputs": [
        {
          "output_type": "execute_result",
          "data": {
            "text/html": [
              "<div>\n",
              "<style scoped>\n",
              "    .dataframe tbody tr th:only-of-type {\n",
              "        vertical-align: middle;\n",
              "    }\n",
              "\n",
              "    .dataframe tbody tr th {\n",
              "        vertical-align: top;\n",
              "    }\n",
              "\n",
              "    .dataframe thead th {\n",
              "        text-align: right;\n",
              "    }\n",
              "</style>\n",
              "<table border=\"1\" class=\"dataframe\">\n",
              "  <thead>\n",
              "    <tr style=\"text-align: right;\">\n",
              "      <th></th>\n",
              "      <th>width</th>\n",
              "      <th>length</th>\n",
              "      <th>square</th>\n",
              "      <th>price_pred</th>\n",
              "    </tr>\n",
              "  </thead>\n",
              "  <tbody>\n",
              "    <tr>\n",
              "      <th>0</th>\n",
              "      <td>5</td>\n",
              "      <td>10</td>\n",
              "      <td>50</td>\n",
              "      <td>1.140049e+08</td>\n",
              "    </tr>\n",
              "    <tr>\n",
              "      <th>1</th>\n",
              "      <td>20</td>\n",
              "      <td>20</td>\n",
              "      <td>400</td>\n",
              "      <td>1.457932e+08</td>\n",
              "    </tr>\n",
              "    <tr>\n",
              "      <th>2</th>\n",
              "      <td>10</td>\n",
              "      <td>40</td>\n",
              "      <td>400</td>\n",
              "      <td>1.457932e+08</td>\n",
              "    </tr>\n",
              "  </tbody>\n",
              "</table>\n",
              "</div>"
            ],
            "text/plain": [
              "   width  length  square    price_pred\n",
              "0      5      10      50  1.140049e+08\n",
              "1     20      20     400  1.457932e+08\n",
              "2     10      40     400  1.457932e+08"
            ]
          },
          "metadata": {
            "tags": []
          },
          "execution_count": 13
        }
      ]
    }
  ]
}