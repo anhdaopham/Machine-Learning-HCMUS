{
  "nbformat": 4,
  "nbformat_minor": 0,
  "metadata": {
    "colab": {
      "name": "NMMH_TH8_1611039.ipynb",
      "provenance": [],
      "collapsed_sections": []
    },
    "kernelspec": {
      "name": "python3",
      "display_name": "Python 3"
    }
  },
  "cells": [
    {
      "cell_type": "code",
      "metadata": {
        "id": "WLMBPcIvpSWr",
        "colab_type": "code",
        "colab": {}
      },
      "source": [
        "import pandas as pd\n",
        "import numpy as np"
      ],
      "execution_count": 13,
      "outputs": []
    },
    {
      "cell_type": "code",
      "metadata": {
        "id": "uydMkszRpTI1",
        "colab_type": "code",
        "colab": {
          "base_uri": "https://localhost:8080/",
          "height": 34
        },
        "outputId": "b01bb08e-7b45-4a6f-9bc4-c33cf3c8ec8d"
      },
      "source": [
        "from google.colab import drive\n",
        "drive.mount('/content/gdrive')\n",
        "path = \"gdrive/My Drive/Machine Learning/Lab08\""
      ],
      "execution_count": 14,
      "outputs": [
        {
          "output_type": "stream",
          "text": [
            "Drive already mounted at /content/gdrive; to attempt to forcibly remount, call drive.mount(\"/content/gdrive\", force_remount=True).\n"
          ],
          "name": "stdout"
        }
      ]
    },
    {
      "cell_type": "code",
      "metadata": {
        "id": "EDx-GofIpVyt",
        "colab_type": "code",
        "colab": {
          "base_uri": "https://localhost:8080/",
          "height": 425
        },
        "outputId": "95457ee5-1788-495f-eec9-1a940aafa5b3"
      },
      "source": [
        "df = pd.read_csv(path + \"/df_train.csv\")\n",
        "from sklearn.model_selection import train_test_split\n",
        "df_train, df_valid = train_test_split(df, test_size=0.1)\n",
        "print('Train data:')\n",
        "display(df_train.head(5))\n",
        "print('Valid data:')\n",
        "display(df_valid.head(5))"
      ],
      "execution_count": 28,
      "outputs": [
        {
          "output_type": "stream",
          "text": [
            "Train data:\n"
          ],
          "name": "stdout"
        },
        {
          "output_type": "display_data",
          "data": {
            "text/html": [
              "<div>\n",
              "<style scoped>\n",
              "    .dataframe tbody tr th:only-of-type {\n",
              "        vertical-align: middle;\n",
              "    }\n",
              "\n",
              "    .dataframe tbody tr th {\n",
              "        vertical-align: top;\n",
              "    }\n",
              "\n",
              "    .dataframe thead th {\n",
              "        text-align: right;\n",
              "    }\n",
              "</style>\n",
              "<table border=\"1\" class=\"dataframe\">\n",
              "  <thead>\n",
              "    <tr style=\"text-align: right;\">\n",
              "      <th></th>\n",
              "      <th>timestamp</th>\n",
              "      <th>#followers</th>\n",
              "      <th>#friends</th>\n",
              "      <th>#favorites</th>\n",
              "      <th>hashtags</th>\n",
              "      <th>sentiment_1</th>\n",
              "      <th>sentiment_2</th>\n",
              "      <th>#retweet</th>\n",
              "    </tr>\n",
              "  </thead>\n",
              "  <tbody>\n",
              "    <tr>\n",
              "      <th>3874732</th>\n",
              "      <td>Tue Mar 17 14:17:54 +0000 2020</td>\n",
              "      <td>523</td>\n",
              "      <td>817</td>\n",
              "      <td>0</td>\n",
              "      <td>coronavirus</td>\n",
              "      <td>1</td>\n",
              "      <td>-1</td>\n",
              "      <td>1</td>\n",
              "    </tr>\n",
              "    <tr>\n",
              "      <th>6018421</th>\n",
              "      <td>Mon Feb 10 22:35:08 +0000 2020</td>\n",
              "      <td>3970</td>\n",
              "      <td>1771</td>\n",
              "      <td>0</td>\n",
              "      <td>HandmadeGifts LabradoriteHappens</td>\n",
              "      <td>1</td>\n",
              "      <td>-1</td>\n",
              "      <td>1</td>\n",
              "    </tr>\n",
              "    <tr>\n",
              "      <th>247774</th>\n",
              "      <td>Wed Nov 06 23:57:43 +0000 2019</td>\n",
              "      <td>18</td>\n",
              "      <td>95</td>\n",
              "      <td>0</td>\n",
              "      <td>null;</td>\n",
              "      <td>1</td>\n",
              "      <td>-1</td>\n",
              "      <td>0</td>\n",
              "    </tr>\n",
              "    <tr>\n",
              "      <th>5069811</th>\n",
              "      <td>Tue Mar 24 19:45:26 +0000 2020</td>\n",
              "      <td>1036</td>\n",
              "      <td>2693</td>\n",
              "      <td>0</td>\n",
              "      <td>BREAKING coronavirus</td>\n",
              "      <td>3</td>\n",
              "      <td>-1</td>\n",
              "      <td>1</td>\n",
              "    </tr>\n",
              "    <tr>\n",
              "      <th>6696390</th>\n",
              "      <td>Fri Feb 21 10:51:39 +0000 2020</td>\n",
              "      <td>189</td>\n",
              "      <td>125</td>\n",
              "      <td>0</td>\n",
              "      <td>null;</td>\n",
              "      <td>1</td>\n",
              "      <td>-3</td>\n",
              "      <td>0</td>\n",
              "    </tr>\n",
              "  </tbody>\n",
              "</table>\n",
              "</div>"
            ],
            "text/plain": [
              "                              timestamp  #followers  ...  sentiment_2  #retweet\n",
              "3874732  Tue Mar 17 14:17:54 +0000 2020         523  ...           -1         1\n",
              "6018421  Mon Feb 10 22:35:08 +0000 2020        3970  ...           -1         1\n",
              "247774   Wed Nov 06 23:57:43 +0000 2019          18  ...           -1         0\n",
              "5069811  Tue Mar 24 19:45:26 +0000 2020        1036  ...           -1         1\n",
              "6696390  Fri Feb 21 10:51:39 +0000 2020         189  ...           -3         0\n",
              "\n",
              "[5 rows x 8 columns]"
            ]
          },
          "metadata": {
            "tags": []
          }
        },
        {
          "output_type": "stream",
          "text": [
            "Valid data:\n"
          ],
          "name": "stdout"
        },
        {
          "output_type": "display_data",
          "data": {
            "text/html": [
              "<div>\n",
              "<style scoped>\n",
              "    .dataframe tbody tr th:only-of-type {\n",
              "        vertical-align: middle;\n",
              "    }\n",
              "\n",
              "    .dataframe tbody tr th {\n",
              "        vertical-align: top;\n",
              "    }\n",
              "\n",
              "    .dataframe thead th {\n",
              "        text-align: right;\n",
              "    }\n",
              "</style>\n",
              "<table border=\"1\" class=\"dataframe\">\n",
              "  <thead>\n",
              "    <tr style=\"text-align: right;\">\n",
              "      <th></th>\n",
              "      <th>timestamp</th>\n",
              "      <th>#followers</th>\n",
              "      <th>#friends</th>\n",
              "      <th>#favorites</th>\n",
              "      <th>hashtags</th>\n",
              "      <th>sentiment_1</th>\n",
              "      <th>sentiment_2</th>\n",
              "      <th>#retweet</th>\n",
              "    </tr>\n",
              "  </thead>\n",
              "  <tbody>\n",
              "    <tr>\n",
              "      <th>5693854</th>\n",
              "      <td>Sun Oct 13 18:44:11 +0000 2019</td>\n",
              "      <td>105943</td>\n",
              "      <td>630</td>\n",
              "      <td>830</td>\n",
              "      <td>null;</td>\n",
              "      <td>1</td>\n",
              "      <td>-1</td>\n",
              "      <td>52</td>\n",
              "    </tr>\n",
              "    <tr>\n",
              "      <th>4527564</th>\n",
              "      <td>Mon Mar 16 22:07:16 +0000 2020</td>\n",
              "      <td>60</td>\n",
              "      <td>190</td>\n",
              "      <td>0</td>\n",
              "      <td>null;</td>\n",
              "      <td>1</td>\n",
              "      <td>-3</td>\n",
              "      <td>0</td>\n",
              "    </tr>\n",
              "    <tr>\n",
              "      <th>1915627</th>\n",
              "      <td>Wed Oct 09 19:48:15 +0000 2019</td>\n",
              "      <td>4897</td>\n",
              "      <td>130</td>\n",
              "      <td>0</td>\n",
              "      <td>null;</td>\n",
              "      <td>2</td>\n",
              "      <td>-1</td>\n",
              "      <td>0</td>\n",
              "    </tr>\n",
              "    <tr>\n",
              "      <th>5963549</th>\n",
              "      <td>Wed Feb 26 19:03:14 +0000 2020</td>\n",
              "      <td>24134</td>\n",
              "      <td>12190</td>\n",
              "      <td>48</td>\n",
              "      <td>null;</td>\n",
              "      <td>1</td>\n",
              "      <td>-1</td>\n",
              "      <td>12</td>\n",
              "    </tr>\n",
              "    <tr>\n",
              "      <th>3597801</th>\n",
              "      <td>Mon Jan 13 12:00:09 +0000 2020</td>\n",
              "      <td>530</td>\n",
              "      <td>473</td>\n",
              "      <td>0</td>\n",
              "      <td>null;</td>\n",
              "      <td>2</td>\n",
              "      <td>-1</td>\n",
              "      <td>1</td>\n",
              "    </tr>\n",
              "  </tbody>\n",
              "</table>\n",
              "</div>"
            ],
            "text/plain": [
              "                              timestamp  #followers  ...  sentiment_2  #retweet\n",
              "5693854  Sun Oct 13 18:44:11 +0000 2019      105943  ...           -1        52\n",
              "4527564  Mon Mar 16 22:07:16 +0000 2020          60  ...           -3         0\n",
              "1915627  Wed Oct 09 19:48:15 +0000 2019        4897  ...           -1         0\n",
              "5963549  Wed Feb 26 19:03:14 +0000 2020       24134  ...           -1        12\n",
              "3597801  Mon Jan 13 12:00:09 +0000 2020         530  ...           -1         1\n",
              "\n",
              "[5 rows x 8 columns]"
            ]
          },
          "metadata": {
            "tags": []
          }
        }
      ]
    },
    {
      "cell_type": "markdown",
      "metadata": {
        "id": "msxoCzFJCOyp",
        "colab_type": "text"
      },
      "source": [
        "**Feature selection**"
      ]
    },
    {
      "cell_type": "code",
      "metadata": {
        "id": "HanL0xtI_VuB",
        "colab_type": "code",
        "colab": {}
      },
      "source": [
        "import statsmodels.api as sm"
      ],
      "execution_count": 16,
      "outputs": []
    },
    {
      "cell_type": "code",
      "metadata": {
        "id": "RaYpUD9R-vEu",
        "colab_type": "code",
        "colab": {}
      },
      "source": [
        "def forward_selection(data, target, significance_level=0.05):\n",
        "    initial_features = data.columns.tolist()\n",
        "    best_features = []\n",
        "    while (len(initial_features)>0):\n",
        "        remaining_features = list(set(initial_features)-set(best_features))\n",
        "        new_pval = pd.Series(index=remaining_features)\n",
        "        for new_column in remaining_features:\n",
        "            model = sm.OLS(target, sm.add_constant(data[best_features+[new_column]])).fit()\n",
        "            new_pval[new_column] = model.pvalues[new_column]\n",
        "        min_p_value = new_pval.min()\n",
        "        if(min_p_value<significance_level):\n",
        "            best_features.append(new_pval.idxmin())\n",
        "        else:\n",
        "            break\n",
        "    return best_features"
      ],
      "execution_count": 17,
      "outputs": []
    },
    {
      "cell_type": "code",
      "metadata": {
        "id": "O9YelYjCpcIk",
        "colab_type": "code",
        "colab": {
          "base_uri": "https://localhost:8080/",
          "height": 34
        },
        "outputId": "c1e8968e-1138-472d-8109-17eaa1afda45"
      },
      "source": [
        "column = []\n",
        "for i in df_train.columns:\n",
        "  if (df_train.dtypes[i] != 'object' and i != '#retweet'):\n",
        "    column.append(i)\n",
        "column"
      ],
      "execution_count": 18,
      "outputs": [
        {
          "output_type": "execute_result",
          "data": {
            "text/plain": [
              "['#followers', '#friends', '#favorites', 'sentiment_1', 'sentiment_2']"
            ]
          },
          "metadata": {
            "tags": []
          },
          "execution_count": 18
        }
      ]
    },
    {
      "cell_type": "code",
      "metadata": {
        "id": "xCPMIaOi-yKK",
        "colab_type": "code",
        "colab": {
          "base_uri": "https://localhost:8080/",
          "height": 88
        },
        "outputId": "478e44e1-0014-4a75-eb1d-cf0a631993e8"
      },
      "source": [
        "forward_selection(df_train[column], df_train['#retweet'])"
      ],
      "execution_count": 19,
      "outputs": [
        {
          "output_type": "stream",
          "text": [
            "/usr/local/lib/python3.6/dist-packages/ipykernel_launcher.py:6: DeprecationWarning: The default dtype for empty Series will be 'object' instead of 'float64' in a future version. Specify a dtype explicitly to silence this warning.\n",
            "  \n"
          ],
          "name": "stderr"
        },
        {
          "output_type": "execute_result",
          "data": {
            "text/plain": [
              "['#followers', '#favorites', '#friends', 'sentiment_2', 'sentiment_1']"
            ]
          },
          "metadata": {
            "tags": []
          },
          "execution_count": 19
        }
      ]
    },
    {
      "cell_type": "code",
      "metadata": {
        "id": "QIF4xoZ9pyLR",
        "colab_type": "code",
        "colab": {}
      },
      "source": [
        "X_train = df_train[column].values    \n",
        "X_valid = df_valid[column].values\n",
        "\n",
        "X_means = np.mean(X_train, axis=0)\n",
        "X_stds = np.std(X_train, axis=0)\n",
        "X_train = (X_train - X_means)/X_stds\n",
        "X_valid = (X_valid - X_means)/X_stds\n",
        "\n",
        "y_train = df_train['#retweet'].values\n",
        "y_valid = df_test['#retweet'].values"
      ],
      "execution_count": 20,
      "outputs": []
    },
    {
      "cell_type": "code",
      "metadata": {
        "id": "ZfSSDRLuqDpH",
        "colab_type": "code",
        "colab": {
          "base_uri": "https://localhost:8080/",
          "height": 255
        },
        "outputId": "1ab6417c-b942-4568-97e6-5f6f75ed3fc4"
      },
      "source": [
        "import tensorflow as tf\n",
        "from tensorflow.keras.layers import Input, Dense\n",
        "from tensorflow.keras.models import Model\n",
        "\n",
        "inputs = Input(shape=(5,))    ## tạo một layer Input, mỗi sample có input là 1 vector độ dài 5\n",
        "dense_1 = Dense(units=10, activation='relu')(inputs)   ## tạo một layer gồm 10 units, hàm kích hoạt relu\n",
        "outputs = Dense(units=1, activation=None)(dense_1)  \n",
        "model = Model(inputs=inputs, outputs=outputs)    ## tạo model với input và output layer đã xây dựng\n",
        "\n",
        "model.compile(optimizer=tf.keras.optimizers.Adam(learning_rate=0.0001), loss='mean_squared_error')      ## khai báo optimizer và loss cho model\n",
        "model.summary()"
      ],
      "execution_count": 21,
      "outputs": [
        {
          "output_type": "stream",
          "text": [
            "Model: \"model_1\"\n",
            "_________________________________________________________________\n",
            "Layer (type)                 Output Shape              Param #   \n",
            "=================================================================\n",
            "input_2 (InputLayer)         [(None, 5)]               0         \n",
            "_________________________________________________________________\n",
            "dense_2 (Dense)              (None, 10)                60        \n",
            "_________________________________________________________________\n",
            "dense_3 (Dense)              (None, 1)                 11        \n",
            "=================================================================\n",
            "Total params: 71\n",
            "Trainable params: 71\n",
            "Non-trainable params: 0\n",
            "_________________________________________________________________\n"
          ],
          "name": "stdout"
        }
      ]
    },
    {
      "cell_type": "code",
      "metadata": {
        "id": "cnfdHt8UqGLq",
        "colab_type": "code",
        "colab": {
          "base_uri": "https://localhost:8080/",
          "height": 374
        },
        "outputId": "23b062dd-8117-44ff-c6be-a97871ce8e1e"
      },
      "source": [
        "model.fit(X_train, y_train, validation_data=(X_valid, y_valid), epochs=10, batch_size = 256)"
      ],
      "execution_count": 22,
      "outputs": [
        {
          "output_type": "stream",
          "text": [
            "Epoch 1/10\n",
            "25792/25792 [==============================] - 30s 1ms/step - loss: 382516.3125 - val_loss: 303897.7188\n",
            "Epoch 2/10\n",
            "25792/25792 [==============================] - 30s 1ms/step - loss: 378727.8750 - val_loss: 303709.8438\n",
            "Epoch 3/10\n",
            "25792/25792 [==============================] - 30s 1ms/step - loss: 373722.7500 - val_loss: 303983.0312\n",
            "Epoch 4/10\n",
            "25792/25792 [==============================] - 30s 1ms/step - loss: 367371.0938 - val_loss: 304422.6562\n",
            "Epoch 5/10\n",
            "25792/25792 [==============================] - 30s 1ms/step - loss: 359798.8750 - val_loss: 305020.7188\n",
            "Epoch 6/10\n",
            "25792/25792 [==============================] - 30s 1ms/step - loss: 351648.8438 - val_loss: 305762.6250\n",
            "Epoch 7/10\n",
            "25792/25792 [==============================] - 30s 1ms/step - loss: 342008.6875 - val_loss: 306475.1875\n",
            "Epoch 8/10\n",
            "25792/25792 [==============================] - 30s 1ms/step - loss: 332056.4062 - val_loss: 307557.6250\n",
            "Epoch 9/10\n",
            "25792/25792 [==============================] - 31s 1ms/step - loss: 320519.7812 - val_loss: 309369.4688\n",
            "Epoch 10/10\n",
            "25792/25792 [==============================] - 31s 1ms/step - loss: 308674.5625 - val_loss: 311660.1875\n"
          ],
          "name": "stdout"
        },
        {
          "output_type": "execute_result",
          "data": {
            "text/plain": [
              "<tensorflow.python.keras.callbacks.History at 0x7f584c046780>"
            ]
          },
          "metadata": {
            "tags": []
          },
          "execution_count": 22
        }
      ]
    },
    {
      "cell_type": "code",
      "metadata": {
        "id": "nG_uvvHaymR0",
        "colab_type": "code",
        "colab": {}
      },
      "source": [
        "df_test = pd.read_csv(path + \"/df_test.csv\")\n",
        "X_test = df_test[column].values\n",
        "X_test = (X_test - X_means)/X_stds\n",
        "y_test = df_test['#retweet'].values"
      ],
      "execution_count": 23,
      "outputs": []
    },
    {
      "cell_type": "code",
      "metadata": {
        "id": "2XNb9jddzDrR",
        "colab_type": "code",
        "colab": {
          "base_uri": "https://localhost:8080/",
          "height": 34
        },
        "outputId": "5bcf10ff-1e0c-44a9-c876-5f582e14ec43"
      },
      "source": [
        "y_test.shape"
      ],
      "execution_count": 24,
      "outputs": [
        {
          "output_type": "execute_result",
          "data": {
            "text/plain": [
              "(815153,)"
            ]
          },
          "metadata": {
            "tags": []
          },
          "execution_count": 24
        }
      ]
    },
    {
      "cell_type": "code",
      "metadata": {
        "id": "MwzuFxZ4yXQK",
        "colab_type": "code",
        "colab": {}
      },
      "source": [
        "y_pred = model.predict(X_test)"
      ],
      "execution_count": 25,
      "outputs": []
    },
    {
      "cell_type": "code",
      "metadata": {
        "id": "jdcLsJGDydNu",
        "colab_type": "code",
        "colab": {
          "base_uri": "https://localhost:8080/",
          "height": 34
        },
        "outputId": "30d0ae3e-277e-45aa-d8fb-37b50bbdf625"
      },
      "source": [
        "y_pred = np.round(y_pred)\n",
        "y_pred = y_pred.astype(int)\n",
        "y_pred = np.squeeze(y_pred)\n",
        "y_pred.shape"
      ],
      "execution_count": 26,
      "outputs": [
        {
          "output_type": "execute_result",
          "data": {
            "text/plain": [
              "(815153,)"
            ]
          },
          "metadata": {
            "tags": []
          },
          "execution_count": 26
        }
      ]
    },
    {
      "cell_type": "code",
      "metadata": {
        "id": "C-s7DyxT3wJX",
        "colab_type": "code",
        "colab": {
          "base_uri": "https://localhost:8080/",
          "height": 34
        },
        "outputId": "7780951e-8815-42ca-a417-f720b04caab4"
      },
      "source": [
        "from sklearn.metrics import mean_squared_log_error\n",
        "mean_squared_log_error(y_test, y_pred)"
      ],
      "execution_count": 27,
      "outputs": [
        {
          "output_type": "execute_result",
          "data": {
            "text/plain": [
              "1.26032918948597"
            ]
          },
          "metadata": {
            "tags": []
          },
          "execution_count": 27
        }
      ]
    }
  ]
}