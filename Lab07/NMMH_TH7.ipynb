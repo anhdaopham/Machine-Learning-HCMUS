{
  "nbformat": 4,
  "nbformat_minor": 0,
  "metadata": {
    "colab": {
      "name": "NMMH_TH7_1611039.ipynb",
      "provenance": [],
      "collapsed_sections": []
    },
    "kernelspec": {
      "name": "python3",
      "display_name": "Python 3"
    }
  },
  "cells": [
    {
      "cell_type": "code",
      "metadata": {
        "id": "u3vYKCOrxRbP",
        "colab_type": "code",
        "colab": {}
      },
      "source": [
        "import numpy as np\n",
        "import matplotlib.pyplot as plt\n",
        "import pandas as pd"
      ],
      "execution_count": 1,
      "outputs": []
    },
    {
      "cell_type": "code",
      "metadata": {
        "id": "MSFwOvcbxTeY",
        "colab_type": "code",
        "colab": {
          "base_uri": "https://localhost:8080/",
          "height": 204
        },
        "outputId": "0382e5ab-acca-4ad9-aaea-0c7ca10d880b"
      },
      "source": [
        "train = pd.read_csv(\"https://raw.githubusercontent.com/dinhvietcuong1996/Lab-MachineLearningCourse/master/Lab03/bt_train.csv\")\n",
        "train.head()"
      ],
      "execution_count": 2,
      "outputs": [
        {
          "output_type": "execute_result",
          "data": {
            "text/html": [
              "<div>\n",
              "<style scoped>\n",
              "    .dataframe tbody tr th:only-of-type {\n",
              "        vertical-align: middle;\n",
              "    }\n",
              "\n",
              "    .dataframe tbody tr th {\n",
              "        vertical-align: top;\n",
              "    }\n",
              "\n",
              "    .dataframe thead th {\n",
              "        text-align: right;\n",
              "    }\n",
              "</style>\n",
              "<table border=\"1\" class=\"dataframe\">\n",
              "  <thead>\n",
              "    <tr style=\"text-align: right;\">\n",
              "      <th></th>\n",
              "      <th>x1</th>\n",
              "      <th>x2</th>\n",
              "      <th>label</th>\n",
              "    </tr>\n",
              "  </thead>\n",
              "  <tbody>\n",
              "    <tr>\n",
              "      <th>0</th>\n",
              "      <td>55.808717</td>\n",
              "      <td>54.602061</td>\n",
              "      <td>0</td>\n",
              "    </tr>\n",
              "    <tr>\n",
              "      <th>1</th>\n",
              "      <td>50.882672</td>\n",
              "      <td>52.736342</td>\n",
              "      <td>0</td>\n",
              "    </tr>\n",
              "    <tr>\n",
              "      <th>2</th>\n",
              "      <td>53.196444</td>\n",
              "      <td>44.208365</td>\n",
              "      <td>0</td>\n",
              "    </tr>\n",
              "    <tr>\n",
              "      <th>3</th>\n",
              "      <td>54.727839</td>\n",
              "      <td>60.406845</td>\n",
              "      <td>0</td>\n",
              "    </tr>\n",
              "    <tr>\n",
              "      <th>4</th>\n",
              "      <td>49.771372</td>\n",
              "      <td>48.405605</td>\n",
              "      <td>0</td>\n",
              "    </tr>\n",
              "  </tbody>\n",
              "</table>\n",
              "</div>"
            ],
            "text/plain": [
              "          x1         x2  label\n",
              "0  55.808717  54.602061      0\n",
              "1  50.882672  52.736342      0\n",
              "2  53.196444  44.208365      0\n",
              "3  54.727839  60.406845      0\n",
              "4  49.771372  48.405605      0"
            ]
          },
          "metadata": {
            "tags": []
          },
          "execution_count": 2
        }
      ]
    },
    {
      "cell_type": "code",
      "metadata": {
        "id": "bY0X7xvIxVvZ",
        "colab_type": "code",
        "colab": {
          "base_uri": "https://localhost:8080/",
          "height": 298
        },
        "outputId": "2a84b2d6-7166-434b-8ae7-bad81599065c"
      },
      "source": [
        "x1_train = train['x1'].values\n",
        "x2_train = train['x2'].values\n",
        "y_train = train['label'].values\n",
        "\n",
        "plt.scatter(x1_train[y_train == 0], x2_train[y_train==0], label = '0')\n",
        "plt.scatter(x1_train[y_train == 1], x2_train[y_train==1], label = '1')\n",
        "plt.scatter(x1_train[y_train == 2], x2_train[y_train==2], label = '2')\n",
        "\n",
        "plt.title('Trainning Set')\n",
        "plt.legend()"
      ],
      "execution_count": 3,
      "outputs": [
        {
          "output_type": "execute_result",
          "data": {
            "text/plain": [
              "<matplotlib.legend.Legend at 0x7ff203aea9e8>"
            ]
          },
          "metadata": {
            "tags": []
          },
          "execution_count": 3
        },
        {
          "output_type": "display_data",
          "data": {
            "image/png": "[encoded data removed]",
            "text/plain": [
              "<Figure size 432x288 with 1 Axes>"
            ]
          },
          "metadata": {
            "tags": [],
            "needs_background": "light"
          }
        }
      ]
    },
    {
      "cell_type": "code",
      "metadata": {
        "id": "RM-DKBxYxXOR",
        "colab_type": "code",
        "colab": {
          "base_uri": "https://localhost:8080/",
          "height": 298
        },
        "outputId": "21819908-440e-45fe-d3af-96e55cbeabb8"
      },
      "source": [
        "plt.figure()\n",
        "valid = pd.read_csv(\"https://raw.githubusercontent.com/dinhvietcuong1996/Lab-MachineLearningCourse/master/Lab03/bt_valid.csv\")\n",
        "x1_valid = valid['x1'].values\n",
        "x2_valid = valid['x2'].values\n",
        "y_valid = valid['label'].values\n",
        "\n",
        "plt.scatter(x1_valid[y_valid == 0], x2_valid[y_valid==0], label = '0')\n",
        "plt.scatter(x1_valid[y_valid == 1], x2_valid[y_valid==1], label = '1')\n",
        "plt.scatter(x1_valid[y_valid == 2], x2_valid[y_valid==2], label = '2')\n",
        "\n",
        "plt.title('Validation Set')\n",
        "plt.legend()"
      ],
      "execution_count": 4,
      "outputs": [
        {
          "output_type": "execute_result",
          "data": {
            "text/plain": [
              "<matplotlib.legend.Legend at 0x7ff2035dcf98>"
            ]
          },
          "metadata": {
            "tags": []
          },
          "execution_count": 4
        },
        {
          "output_type": "display_data",
          "data": {
            "image/png": "[encoded data removed]",
            "text/plain": [
              "<Figure size 432x288 with 1 Axes>"
            ]
          },
          "metadata": {
            "tags": [],
            "needs_background": "light"
          }
        }
      ]
    },
    {
      "cell_type": "code",
      "metadata": {
        "id": "z2gLrnLUxaA3",
        "colab_type": "code",
        "colab": {}
      },
      "source": [
        "x1_mean = np.mean(x1_train)\n",
        "x1_std = np.std(x1_train)\n",
        "x2_mean = np.mean(x2_train)\n",
        "x2_std = np.std(x2_train)\n",
        "\n",
        "x1_train = (x1_train - x1_mean)/ x1_std\n",
        "x2_train = (x2_train - x2_mean)/ x2_std\n",
        "\n",
        "x1_valid = (x1_valid - x1_mean)/ x1_std\n",
        "x2_valid = (x2_valid - x2_mean)/ x2_std"
      ],
      "execution_count": 5,
      "outputs": []
    },
    {
      "cell_type": "code",
      "metadata": {
        "id": "Pbp0JDNFynVQ",
        "colab_type": "code",
        "colab": {}
      },
      "source": [
        "X_train = np.concatenate([x1_train.reshape(-1,1), x2_train.reshape(-1,1)], axis=-1)\n",
        "X_valid = np.concatenate([x1_valid.reshape(-1,1), x2_valid.reshape(-1,1)], axis=-1)"
      ],
      "execution_count": 6,
      "outputs": []
    },
    {
      "cell_type": "code",
      "metadata": {
        "id": "7SgFAPhWT0wA",
        "colab_type": "code",
        "colab": {}
      },
      "source": [
        "def convert(arr):\n",
        "  ans = []\n",
        "  for i in arr:\n",
        "    if(i == 0):\n",
        "      ans.append([1,0,0])\n",
        "    elif( i == 1):\n",
        "      ans.append([0,1,0])\n",
        "    else:\n",
        "      ans.append([0,0,1])\n",
        "  return ans"
      ],
      "execution_count": 7,
      "outputs": []
    },
    {
      "cell_type": "code",
      "metadata": {
        "id": "YM85zzewT7su",
        "colab_type": "code",
        "colab": {}
      },
      "source": [
        "y_train_matrix = convert(y_train)\n",
        "y_train_matrix = np.matrix(y_train_matrix)\n",
        "y_valid_matrix = convert(y_valid)\n",
        "y_valid_matrix = np.matrix(y_valid_matrix)"
      ],
      "execution_count": 8,
      "outputs": []
    },
    {
      "cell_type": "code",
      "metadata": {
        "id": "TaPJ38xIxthK",
        "colab_type": "code",
        "colab": {
          "base_uri": "https://localhost:8080/",
          "height": 255
        },
        "outputId": "33dc4e92-1852-43f0-8f62-cb5e9870f22e"
      },
      "source": [
        "from sklearn.neural_network import MLPClassifier\n",
        "clf = MLPClassifier(solver='lbfgs', alpha=1e-5, hidden_layer_sizes =(5,5), random_state=1)\n",
        "clf.fit(X_train, y_train)"
      ],
      "execution_count": 9,
      "outputs": [
        {
          "output_type": "stream",
          "text": [
            "/usr/local/lib/python3.6/dist-packages/sklearn/neural_network/_multilayer_perceptron.py:470: ConvergenceWarning: lbfgs failed to converge (status=1):\n",
            "STOP: TOTAL NO. of ITERATIONS REACHED LIMIT.\n",
            "\n",
            "Increase the number of iterations (max_iter) or scale the data as shown in:\n",
            "    https://scikit-learn.org/stable/modules/preprocessing.html\n",
            "  self.n_iter_ = _check_optimize_result(\"lbfgs\", opt_res, self.max_iter)\n"
          ],
          "name": "stderr"
        },
        {
          "output_type": "execute_result",
          "data": {
            "text/plain": [
              "MLPClassifier(activation='relu', alpha=1e-05, batch_size='auto', beta_1=0.9,\n",
              "              beta_2=0.999, early_stopping=False, epsilon=1e-08,\n",
              "              hidden_layer_sizes=(5, 5), learning_rate='constant',\n",
              "              learning_rate_init=0.001, max_fun=15000, max_iter=200,\n",
              "              momentum=0.9, n_iter_no_change=10, nesterovs_momentum=True,\n",
              "              power_t=0.5, random_state=1, shuffle=True, solver='lbfgs',\n",
              "              tol=0.0001, validation_fraction=0.1, verbose=False,\n",
              "              warm_start=False)"
            ]
          },
          "metadata": {
            "tags": []
          },
          "execution_count": 9
        }
      ]
    },
    {
      "cell_type": "code",
      "metadata": {
        "id": "f8N0pte5z3M2",
        "colab_type": "code",
        "colab": {
          "base_uri": "https://localhost:8080/",
          "height": 34
        },
        "outputId": "f4b297a9-b046-43ed-fe4b-ec13d18033c8"
      },
      "source": [
        "[coef.shape for coef in clf.coefs_]"
      ],
      "execution_count": 10,
      "outputs": [
        {
          "output_type": "execute_result",
          "data": {
            "text/plain": [
              "[(2, 5), (5, 5), (5, 3)]"
            ]
          },
          "metadata": {
            "tags": []
          },
          "execution_count": 10
        }
      ]
    },
    {
      "cell_type": "code",
      "metadata": {
        "id": "-mrCd7eMyt38",
        "colab_type": "code",
        "colab": {
          "base_uri": "https://localhost:8080/",
          "height": 34
        },
        "outputId": "5a4c0660-bae1-43e7-b979-3140ca7c9c32"
      },
      "source": [
        "print('Accuracy on valid: ', np.mean(clf.predict(X_valid) == y_valid))"
      ],
      "execution_count": 21,
      "outputs": [
        {
          "output_type": "stream",
          "text": [
            "Accuracy on valid:  0.63\n"
          ],
          "name": "stdout"
        }
      ]
    },
    {
      "cell_type": "markdown",
      "metadata": {
        "id": "ZAkend4ON2wJ",
        "colab_type": "text"
      },
      "source": [
        "# **Bài 2**"
      ]
    },
    {
      "cell_type": "markdown",
      "metadata": {
        "id": "oO7azVkPN01X",
        "colab_type": "text"
      },
      "source": [
        "**2.1 Define structure**"
      ]
    },
    {
      "cell_type": "code",
      "metadata": {
        "id": "7ACyaqi9MCDp",
        "colab_type": "code",
        "colab": {
          "base_uri": "https://localhost:8080/",
          "height": 68
        },
        "outputId": "118be50b-95dc-43a5-a618-c75369109d03"
      },
      "source": [
        "def define_structure(X, y):\n",
        "  input_unit = 5 # size of input layer\n",
        "  hidden_unit = 2 #hidden layer of size 2\n",
        "  output_unit = 3 # size of output layer\n",
        "  return (input_unit, hidden_unit, output_unit)\n",
        "(input_unit, hidden_unit, output_unit) = define_structure(X_train, y_train)\n",
        "print(\"The size of the input layer is: \" + str(input_unit))\n",
        "print(\"The size of the hidden layer is: \" + str(hidden_unit))\n",
        "print(\"The size of the output layer is: \" + str(output_unit))"
      ],
      "execution_count": 12,
      "outputs": [
        {
          "output_type": "stream",
          "text": [
            "The size of the input layer is: 5\n",
            "The size of the hidden layer is: 2\n",
            "The size of the output layer is: 3\n"
          ],
          "name": "stdout"
        }
      ]
    },
    {
      "cell_type": "markdown",
      "metadata": {
        "id": "yezAHkxoN8OD",
        "colab_type": "text"
      },
      "source": [
        "**2.2 Initialize Model Parameter**"
      ]
    },
    {
      "cell_type": "code",
      "metadata": {
        "id": "wSOtVQ92MXyL",
        "colab_type": "code",
        "colab": {}
      },
      "source": [
        "def parameters_initialization(input_unit, hidden_unit, output_unit):\n",
        "    np.random.seed(2) \n",
        "    W1 = np.random.randn(hidden_unit, input_unit)*0.01\n",
        "    b1 = np.zeros((hidden_unit, 1))\n",
        "    W2 = np.random.randn(output_unit, hidden_unit)*0.01\n",
        "    b2 = np.zeros((output_unit, 1))\n",
        "    W3 = np.random.randn(output_unit, hidden_unit)*0.01\n",
        "    b3 = np.zeros((output_unit, 1))\n",
        "    parameters = {\"W1\": W1,\n",
        "                  \"b1\": b1,\n",
        "                  \"W2\": W2,\n",
        "                  \"b2\": b2,\n",
        "                  \"W3\": W3,\n",
        "                  \"b3\": b3,\n",
        "                  }\n",
        "    \n",
        "    return parameters"
      ],
      "execution_count": 13,
      "outputs": []
    },
    {
      "cell_type": "markdown",
      "metadata": {
        "id": "HF3MIlfPOedY",
        "colab_type": "text"
      },
      "source": [
        "**2.2 Forward Propagation**"
      ]
    },
    {
      "cell_type": "code",
      "metadata": {
        "id": "aK2QeluiOa4a",
        "colab_type": "code",
        "colab": {}
      },
      "source": [
        "def sigmoid(z):\n",
        "    return 1/(1+np.exp(-z))\n",
        "\n",
        "def forward_propagation(X, parameters):\n",
        "    W1 = parameters['W1']\n",
        "    b1 = parameters['b1']\n",
        "    W2 = parameters['W2']\n",
        "    b2 = parameters['b2']\n",
        "    W3 = parameters['W3']\n",
        "    b3 = parameters['b3']\n",
        "    \n",
        "    Z1 = np.dot(W1, X) + b1\n",
        "    A1 = np.tanh(Z2)\n",
        "    Z2 = np.dot(W2, A1) + b2\n",
        "    A2 = np.tanh(Z2)\n",
        "    Z3 = np.dot(W3, A2) + b3\n",
        "    A3 = sigmoid(Z2)\n",
        "\n",
        "    cache = {\"Z1\": Z1,\"A1\": A1,\"Z2\": Z2,\"A2\": A2, \"Z3\": Z3,\"A3\": A3}\n",
        "    \n",
        "    return A3, cache"
      ],
      "execution_count": 14,
      "outputs": []
    },
    {
      "cell_type": "markdown",
      "metadata": {
        "id": "-5dOjusMPUpc",
        "colab_type": "text"
      },
      "source": [
        "**2.3 Compute Cost**"
      ]
    },
    {
      "cell_type": "code",
      "metadata": {
        "id": "RZ-odUCPPR-s",
        "colab_type": "code",
        "colab": {}
      },
      "source": [
        "# def cross_entropy_cost(A1, A2, A3, Y1, Y2, Y3, parameters):\n",
        "#     # number of training example\n",
        "#     m = Y.shape[0] \n",
        "#     # Compute the cross-entropy cost\n",
        "#     logprobs = np.multiply(np.log(A1), Y1) + np.multiply((Y2), np.log(A2)) + np.multiply((Y3), np.log(A3))\n",
        "#     cost = - np.sum(logprobs) / m\n",
        "#     cost = float(np.squeeze(cost))\n",
        "                                    \n",
        "#     return cost"
      ],
      "execution_count": 15,
      "outputs": []
    },
    {
      "cell_type": "code",
      "metadata": {
        "id": "pPqIyjpQPdCu",
        "colab_type": "code",
        "colab": {}
      },
      "source": [
        "# def backward_propagation(parameters, cache, X, Y):\n",
        "#     #number of training example\n",
        "#     m = X.shape[0]\n",
        "    \n",
        "#     W1 = parameters['W1']\n",
        "#     W2 = parameters['W2']\n",
        "#     W3 = parameters['W3']\n",
        "#     A1 = cache['A1']\n",
        "#     A2 = cache['A2']\n",
        "#     A3 = cache['A3']\n",
        "\n",
        "   \n",
        "#     dZ3 = A3-Y\n",
        "#     dW3 = (1/m) * np.dot(dZ3, A2.T)\n",
        "#     db3 = (1/m) * np.sum(dZ3, axis=1, keepdims=True)\n",
        "#     dZ2 = np.multiply(np.dot(W3.T, dZ3), 1 - np.power(A2, 2))\n",
        "#     dW2 = (1/m) * np.dot(dZ2, X.T) \n",
        "#     db2 = (1/m)*np.sum(dZ2, axis=1, keepdims=True)\n",
        "    \n",
        "#     grads = {\"dW1\": dW1, \"db1\": db1, \"dW2\": dW2,\"db2\": db2}\n",
        "    \n",
        "#     return grads"
      ],
      "execution_count": 16,
      "outputs": []
    },
    {
      "cell_type": "markdown",
      "metadata": {
        "id": "D47QJvZzQM17",
        "colab_type": "text"
      },
      "source": [
        "**2.4 Gradient Descent (update parameters)**"
      ]
    },
    {
      "cell_type": "code",
      "metadata": {
        "id": "88jlyVcnQKFc",
        "colab_type": "code",
        "colab": {}
      },
      "source": [
        "def gradient_descent(parameters, grads, learning_rate = 0.01):\n",
        "    W1 = parameters['W1']\n",
        "    b1 = parameters['b1']\n",
        "    W2 = parameters['W2']\n",
        "    b2 = parameters['b2']\n",
        "    W3 = parameters['W3']\n",
        "    b3 = parameters['b3']\n",
        "   \n",
        "    dW1 = grads['dW1']\n",
        "    db1 = grads['db1']\n",
        "    dW2 = grads['dW2']\n",
        "    db2 = grads['db2']\n",
        "    dW3 = grads['dW3']\n",
        "    db3 = grads['db3']\n",
        "    W1 = W1 - learning_rate * dW1\n",
        "    b1 = b1 - learning_rate * db1\n",
        "    W2 = W2 - learning_rate * dW2\n",
        "    b2 = b2 - learning_rate * db2\n",
        "    W3 = W3 - learning_rate * dW3\n",
        "    b3 = b3 - learning_rate * db3\n",
        "    \n",
        "    parameters = {\"W1\": W1, \"b1\": b1,\"W2\": W2,\"b2\": b2, \"W3\": W3,\"b3\": b3}\n",
        "    \n",
        "    return parameters"
      ],
      "execution_count": 17,
      "outputs": []
    },
    {
      "cell_type": "markdown",
      "metadata": {
        "id": "O5IH9dfzQnNF",
        "colab_type": "text"
      },
      "source": [
        "**2.5 Neural Network Model**"
      ]
    },
    {
      "cell_type": "code",
      "metadata": {
        "id": "5q72ql3FQj0j",
        "colab_type": "code",
        "colab": {}
      },
      "source": [
        "def neural_network_model(X, Y, hidden_unit, num_iterations = 1000):\n",
        "    np.random.seed(3)\n",
        "    input_unit = define_structure(X, Y)[0]\n",
        "    output_unit = define_structure(X, Y)[2]\n",
        "    \n",
        "    parameters = parameters_initialization(input_unit, hidden_unit, output_unit)\n",
        "   \n",
        "    W1 = parameters['W1']\n",
        "    b1 = parameters['b1']\n",
        "    W2 = parameters['W2']\n",
        "    b2 = parameters['b2']\n",
        "    W3 = W3 - learning_rate * dW3\n",
        "    b3 = b3 - learning_rate * db3\n",
        "    \n",
        "    for i in range(0, num_iterations):\n",
        "        A3, cache = forward_propagation(X, parameters)\n",
        "        cost = cross_entropy_cost(A3, Y, parameters)\n",
        "        grads = backward_propagation(parameters, cache, X, Y)\n",
        "        parameters = gradient_descent(parameters, grads)\n",
        "        if i % 3 == 0:\n",
        "            print (\"Cost after iteration %i: %f\" %(i, cost))\n",
        "    return parameters\n",
        "# parameters = neural_network_model(X_train, y_train, 2, num_iterations=1000)"
      ],
      "execution_count": 18,
      "outputs": []
    },
    {
      "cell_type": "code",
      "metadata": {
        "id": "3-ICh3jWRXIk",
        "colab_type": "code",
        "colab": {}
      },
      "source": [
        "def prediction(parameters, X):\n",
        "    A3, cache = forward_propagation(X, parameters)\n",
        "    predictions = np.round(A3)\n",
        "    return predictions"
      ],
      "execution_count": 19,
      "outputs": []
    },
    {
      "cell_type": "code",
      "metadata": {
        "id": "ahxhmnTtRaPC",
        "colab_type": "code",
        "colab": {}
      },
      "source": [
        "# predictions = prediction(parameters, X_train)\n",
        "# print ('Accuracy Train: %d' % float((np.dot(y_train, predictions.T) + np.dot(1 - y_train, 1 - predictions.T))/float(y_train.size)*100) + '%')\n",
        "# predictions = prediction(parameters, X_test)\n",
        "# print ('Accuracy Test: %d' % float((np.dot(y_valid, predictions.T) + np.dot(1 - y_test, 1 - predictions.T))/float(y_valid.size)*100) + '%')"
      ],
      "execution_count": 20,
      "outputs": []
    }
  ]
}