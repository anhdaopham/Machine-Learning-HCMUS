{
  "nbformat": 4,
  "nbformat_minor": 0,
  "metadata": {
    "colab": {
      "name": "NMMH_TH2_1611039.ipynb",
      "provenance": [],
      "collapsed_sections": []
    },
    "kernelspec": {
      "name": "python3",
      "display_name": "Python 3"
    }
  },
  "cells": [
    {
      "cell_type": "code",
      "metadata": {
        "id": "dZEOpfdQyDZG",
        "colab_type": "code",
        "colab": {}
      },
      "source": [
        "import pandas as pd\n",
        "import numpy as np\n",
        "import matplotlib.pyplot as plt"
      ],
      "execution_count": 0,
      "outputs": []
    },
    {
      "cell_type": "code",
      "metadata": {
        "id": "64a5cHMe0ugm",
        "colab_type": "code",
        "colab": {}
      },
      "source": [
        "df = pd.read_csv(\"https://raw.githubusercontent.com/dinhvietcuong1996/Lab-MachineLearningCourse/master/Lab02/House_Price_2.csv\")"
      ],
      "execution_count": 0,
      "outputs": []
    },
    {
      "cell_type": "code",
      "metadata": {
        "id": "2ijSXGp106Q_",
        "colab_type": "code",
        "outputId": "3af5ed59-6992-4206-d2bb-9f999aef2a67",
        "colab": {
          "base_uri": "https://localhost:8080/",
          "height": 419
        }
      },
      "source": [
        "df"
      ],
      "execution_count": 214,
      "outputs": [
        {
          "output_type": "execute_result",
          "data": {
            "text/html": [
              "<div>\n",
              "<style scoped>\n",
              "    .dataframe tbody tr th:only-of-type {\n",
              "        vertical-align: middle;\n",
              "    }\n",
              "\n",
              "    .dataframe tbody tr th {\n",
              "        vertical-align: top;\n",
              "    }\n",
              "\n",
              "    .dataframe thead th {\n",
              "        text-align: right;\n",
              "    }\n",
              "</style>\n",
              "<table border=\"1\" class=\"dataframe\">\n",
              "  <thead>\n",
              "    <tr style=\"text-align: right;\">\n",
              "      <th></th>\n",
              "      <th>width</th>\n",
              "      <th>length</th>\n",
              "      <th>price</th>\n",
              "    </tr>\n",
              "  </thead>\n",
              "  <tbody>\n",
              "    <tr>\n",
              "      <th>0</th>\n",
              "      <td>28</td>\n",
              "      <td>97</td>\n",
              "      <td>3.350184e+08</td>\n",
              "    </tr>\n",
              "    <tr>\n",
              "      <th>1</th>\n",
              "      <td>21</td>\n",
              "      <td>62</td>\n",
              "      <td>2.298295e+08</td>\n",
              "    </tr>\n",
              "    <tr>\n",
              "      <th>2</th>\n",
              "      <td>27</td>\n",
              "      <td>64</td>\n",
              "      <td>2.603552e+08</td>\n",
              "    </tr>\n",
              "    <tr>\n",
              "      <th>3</th>\n",
              "      <td>5</td>\n",
              "      <td>92</td>\n",
              "      <td>2.064708e+08</td>\n",
              "    </tr>\n",
              "    <tr>\n",
              "      <th>4</th>\n",
              "      <td>13</td>\n",
              "      <td>84</td>\n",
              "      <td>2.339808e+08</td>\n",
              "    </tr>\n",
              "    <tr>\n",
              "      <th>...</th>\n",
              "      <td>...</td>\n",
              "      <td>...</td>\n",
              "      <td>...</td>\n",
              "    </tr>\n",
              "    <tr>\n",
              "      <th>95</th>\n",
              "      <td>23</td>\n",
              "      <td>94</td>\n",
              "      <td>3.055955e+08</td>\n",
              "    </tr>\n",
              "    <tr>\n",
              "      <th>96</th>\n",
              "      <td>10</td>\n",
              "      <td>69</td>\n",
              "      <td>1.890808e+08</td>\n",
              "    </tr>\n",
              "    <tr>\n",
              "      <th>97</th>\n",
              "      <td>11</td>\n",
              "      <td>35</td>\n",
              "      <td>1.305380e+08</td>\n",
              "    </tr>\n",
              "    <tr>\n",
              "      <th>98</th>\n",
              "      <td>8</td>\n",
              "      <td>66</td>\n",
              "      <td>1.701948e+08</td>\n",
              "    </tr>\n",
              "    <tr>\n",
              "      <th>99</th>\n",
              "      <td>18</td>\n",
              "      <td>28</td>\n",
              "      <td>1.455254e+08</td>\n",
              "    </tr>\n",
              "  </tbody>\n",
              "</table>\n",
              "<p>100 rows × 3 columns</p>\n",
              "</div>"
            ],
            "text/plain": [
              "    width  length         price\n",
              "0      28      97  3.350184e+08\n",
              "1      21      62  2.298295e+08\n",
              "2      27      64  2.603552e+08\n",
              "3       5      92  2.064708e+08\n",
              "4      13      84  2.339808e+08\n",
              "..    ...     ...           ...\n",
              "95     23      94  3.055955e+08\n",
              "96     10      69  1.890808e+08\n",
              "97     11      35  1.305380e+08\n",
              "98      8      66  1.701948e+08\n",
              "99     18      28  1.455254e+08\n",
              "\n",
              "[100 rows x 3 columns]"
            ]
          },
          "metadata": {
            "tags": []
          },
          "execution_count": 214
        }
      ]
    },
    {
      "cell_type": "markdown",
      "metadata": {
        "id": "1elV5_U7Mjjk",
        "colab_type": "text"
      },
      "source": [
        "**Normalized data**"
      ]
    },
    {
      "cell_type": "code",
      "metadata": {
        "id": "BAe-EsP8AQcH",
        "colab_type": "code",
        "outputId": "c8c164d2-3af5-4901-b17d-0d1d1d3015d3",
        "colab": {
          "base_uri": "https://localhost:8080/",
          "height": 85
        }
      },
      "source": [
        "x_mean = np.mean(df, axis=0)\n",
        "x_mean"
      ],
      "execution_count": 215,
      "outputs": [
        {
          "output_type": "execute_result",
          "data": {
            "text/plain": [
              "width     1.691000e+01\n",
              "length    5.977000e+01\n",
              "price     2.046623e+08\n",
              "dtype: float64"
            ]
          },
          "metadata": {
            "tags": []
          },
          "execution_count": 215
        }
      ]
    },
    {
      "cell_type": "code",
      "metadata": {
        "id": "dBv0haBLASOb",
        "colab_type": "code",
        "outputId": "00050b52-4eb8-41af-b33b-1a764788b8df",
        "colab": {
          "base_uri": "https://localhost:8080/",
          "height": 85
        }
      },
      "source": [
        "std = np.std(df, axis=0, ddof=1)\n",
        "std"
      ],
      "execution_count": 216,
      "outputs": [
        {
          "output_type": "execute_result",
          "data": {
            "text/plain": [
              "width     7.254528e+00\n",
              "length    2.278483e+01\n",
              "price     6.439491e+07\n",
              "dtype: float64"
            ]
          },
          "metadata": {
            "tags": []
          },
          "execution_count": 216
        }
      ]
    },
    {
      "cell_type": "code",
      "metadata": {
        "id": "NhZy6IiOAWQ9",
        "colab_type": "code",
        "outputId": "4c3c7d90-2c4b-4315-bd54-2fb4ed33f778",
        "colab": {
          "base_uri": "https://localhost:8080/",
          "height": 419
        }
      },
      "source": [
        "for col in df.columns:\n",
        "  df[col] = (df[col] - x_mean[col])/std[col]\n",
        "df"
      ],
      "execution_count": 217,
      "outputs": [
        {
          "output_type": "execute_result",
          "data": {
            "text/html": [
              "<div>\n",
              "<style scoped>\n",
              "    .dataframe tbody tr th:only-of-type {\n",
              "        vertical-align: middle;\n",
              "    }\n",
              "\n",
              "    .dataframe tbody tr th {\n",
              "        vertical-align: top;\n",
              "    }\n",
              "\n",
              "    .dataframe thead th {\n",
              "        text-align: right;\n",
              "    }\n",
              "</style>\n",
              "<table border=\"1\" class=\"dataframe\">\n",
              "  <thead>\n",
              "    <tr style=\"text-align: right;\">\n",
              "      <th></th>\n",
              "      <th>width</th>\n",
              "      <th>length</th>\n",
              "      <th>price</th>\n",
              "    </tr>\n",
              "  </thead>\n",
              "  <tbody>\n",
              "    <tr>\n",
              "      <th>0</th>\n",
              "      <td>1.528700</td>\n",
              "      <td>1.633982</td>\n",
              "      <td>2.024323</td>\n",
              "    </tr>\n",
              "    <tr>\n",
              "      <th>1</th>\n",
              "      <td>0.563786</td>\n",
              "      <td>0.097872</td>\n",
              "      <td>0.390825</td>\n",
              "    </tr>\n",
              "    <tr>\n",
              "      <th>2</th>\n",
              "      <td>1.390855</td>\n",
              "      <td>0.185650</td>\n",
              "      <td>0.864865</td>\n",
              "    </tr>\n",
              "    <tr>\n",
              "      <th>3</th>\n",
              "      <td>-1.641733</td>\n",
              "      <td>1.414538</td>\n",
              "      <td>0.028085</td>\n",
              "    </tr>\n",
              "    <tr>\n",
              "      <th>4</th>\n",
              "      <td>-0.538974</td>\n",
              "      <td>1.063427</td>\n",
              "      <td>0.455292</td>\n",
              "    </tr>\n",
              "    <tr>\n",
              "      <th>...</th>\n",
              "      <td>...</td>\n",
              "      <td>...</td>\n",
              "      <td>...</td>\n",
              "    </tr>\n",
              "    <tr>\n",
              "      <th>95</th>\n",
              "      <td>0.839476</td>\n",
              "      <td>1.502315</td>\n",
              "      <td>1.567410</td>\n",
              "    </tr>\n",
              "    <tr>\n",
              "      <th>96</th>\n",
              "      <td>-0.952509</td>\n",
              "      <td>0.405094</td>\n",
              "      <td>-0.241968</td>\n",
              "    </tr>\n",
              "    <tr>\n",
              "      <th>97</th>\n",
              "      <td>-0.814664</td>\n",
              "      <td>-1.087127</td>\n",
              "      <td>-1.151089</td>\n",
              "    </tr>\n",
              "    <tr>\n",
              "      <th>98</th>\n",
              "      <td>-1.228198</td>\n",
              "      <td>0.273428</td>\n",
              "      <td>-0.535253</td>\n",
              "    </tr>\n",
              "    <tr>\n",
              "      <th>99</th>\n",
              "      <td>0.150251</td>\n",
              "      <td>-1.394349</td>\n",
              "      <td>-0.918348</td>\n",
              "    </tr>\n",
              "  </tbody>\n",
              "</table>\n",
              "<p>100 rows × 3 columns</p>\n",
              "</div>"
            ],
            "text/plain": [
              "       width    length     price\n",
              "0   1.528700  1.633982  2.024323\n",
              "1   0.563786  0.097872  0.390825\n",
              "2   1.390855  0.185650  0.864865\n",
              "3  -1.641733  1.414538  0.028085\n",
              "4  -0.538974  1.063427  0.455292\n",
              "..       ...       ...       ...\n",
              "95  0.839476  1.502315  1.567410\n",
              "96 -0.952509  0.405094 -0.241968\n",
              "97 -0.814664 -1.087127 -1.151089\n",
              "98 -1.228198  0.273428 -0.535253\n",
              "99  0.150251 -1.394349 -0.918348\n",
              "\n",
              "[100 rows x 3 columns]"
            ]
          },
          "metadata": {
            "tags": []
          },
          "execution_count": 217
        }
      ]
    },
    {
      "cell_type": "code",
      "metadata": {
        "id": "nHgpqFf8089m",
        "colab_type": "code",
        "colab": {}
      },
      "source": [
        "X = df[['width','length']].values   \n",
        "X = X.reshape(-1, 2) \n",
        "            \n",
        "y = df['price'].values \n",
        "y = y.reshape(-1,1)"
      ],
      "execution_count": 0,
      "outputs": []
    },
    {
      "cell_type": "markdown",
      "metadata": {
        "id": "PyI_KHLDMeaY",
        "colab_type": "text"
      },
      "source": [
        "**Dùng Gradient Descent giải Linear Regression**"
      ]
    },
    {
      "cell_type": "code",
      "metadata": {
        "id": "_EtrpkyN7uqR",
        "colab_type": "code",
        "outputId": "2c159800-36df-4019-bb88-1a612e5c260d",
        "colab": {
          "base_uri": "https://localhost:8080/",
          "height": 204
        }
      },
      "source": [
        "import numpy as np\n",
        "\n",
        "a, b, c = 0.01, 0.1, 1.0           ## khởi tạo a, b, c\n",
        "\n",
        "n_iter = 10000           ## số vòng lặp cập nhật a, b, c\n",
        "lmda = 0.0000001          ## learning rate\n",
        "for ii in range(n_iter):\n",
        "    error = y - a*X[:,0] - b*X[:,1] - c\n",
        "    a = a - 2* lmda * np.mean(error*(-X[:,0]))\n",
        "    b = b - 2* lmda * np.mean(error*(-X[:,1]))\n",
        "    c = c - 2* lmda * np.mean(error*(-1))\n",
        "    if ii % 1000 == 0:\n",
        "        loss = np.mean(np.square(y - a*X[:,0]-b*X[:,1]-c))\n",
        "        print(\"Loss at iter {}: {}\".format(ii, loss))\n",
        "loss = np.mean(np.square(y - a*X[:,0]-b*X[:,1]-c))\n",
        "print(\"Final loss: \", loss)"
      ],
      "execution_count": 219,
      "outputs": [
        {
          "output_type": "stream",
          "text": [
            "Loss at iter 0: 2.0004518421546673\n",
            "Loss at iter 1000: 2.000047397218829\n",
            "Loss at iter 2000: 1.9996431142494868\n",
            "Loss at iter 3000: 1.9992389931817458\n",
            "Loss at iter 4000: 1.998835033950737\n",
            "Loss at iter 5000: 1.9984312364916113\n",
            "Loss at iter 6000: 1.998027600739547\n",
            "Loss at iter 7000: 1.9976241266297523\n",
            "Loss at iter 8000: 1.9972208140974632\n",
            "Loss at iter 9000: 1.9968176630779344\n",
            "Final loss:  1.9964150764154023\n"
          ],
          "name": "stdout"
        }
      ]
    },
    {
      "cell_type": "code",
      "metadata": {
        "id": "-CIokNeh8bL_",
        "colab_type": "code",
        "colab": {}
      },
      "source": [
        "g_a, g_b, g_c = a,b,c"
      ],
      "execution_count": 0,
      "outputs": []
    },
    {
      "cell_type": "code",
      "metadata": {
        "id": "3sfSe4AnwLXD",
        "colab_type": "code",
        "colab": {
          "base_uri": "https://localhost:8080/",
          "height": 34
        },
        "outputId": "8d39780b-dcec-4c84-f806-81234bcf7d82"
      },
      "source": [
        "print(g_a, g_b, g_c)"
      ],
      "execution_count": 221,
      "outputs": [
        {
          "output_type": "stream",
          "text": [
            "0.009934985587632866 0.09979768261896511 0.9980019984677346\n"
          ],
          "name": "stdout"
        }
      ]
    },
    {
      "cell_type": "code",
      "metadata": {
        "id": "TsPHAFR7Jv-Y",
        "colab_type": "code",
        "outputId": "7e5ee328-b0ae-419c-af7f-8e58bace6968",
        "colab": {
          "base_uri": "https://localhost:8080/",
          "height": 34
        }
      },
      "source": [
        "error.shape, X.shape"
      ],
      "execution_count": 222,
      "outputs": [
        {
          "output_type": "execute_result",
          "data": {
            "text/plain": [
              "((100, 100), (100, 2))"
            ]
          },
          "metadata": {
            "tags": []
          },
          "execution_count": 222
        }
      ]
    },
    {
      "cell_type": "markdown",
      "metadata": {
        "id": "493zRdmuzAM6",
        "colab_type": "text"
      },
      "source": [
        "**Hoặc:**"
      ]
    },
    {
      "cell_type": "code",
      "metadata": {
        "id": "fXxckX6I1f5L",
        "colab_type": "code",
        "colab": {}
      },
      "source": [
        "import numpy as np\n",
        "Z = np.concatenate([X, np.ones((X.shape[0],1))], axis=-1)"
      ],
      "execution_count": 0,
      "outputs": []
    },
    {
      "cell_type": "code",
      "metadata": {
        "id": "4J4bMvmy1k5w",
        "colab_type": "code",
        "outputId": "6923d5b9-4c34-4b56-b9dc-f2cc9a9798cd",
        "colab": {
          "base_uri": "https://localhost:8080/",
          "height": 255
        }
      },
      "source": [
        "theta = np.asarray([[0.01], [0.1], [1.0]])     ## khởi tạo theta\n",
        "\n",
        "n_iter = 10000           ## số vòng lặp cập nhật theta\n",
        "lmda = 0.0000001          ## learning rate\n",
        "for ii in range(n_iter):\n",
        "    error = y - np.matmul(Z, theta)\n",
        "    theta =  theta - 2/Z.shape[0]*lmda*np.matmul(-Z.T, error)   ##cập nhật theta\n",
        "    if ii % 1000 == 0:\n",
        "        loss = np.mean(np.square(y - np.matmul(Z, theta)))\n",
        "        print(\"Loss at iter {}: {}\".format(ii, loss))\n",
        "# loss = np.mean(np.square(y - (Z[:,0])*theta[0] - (Z[:,1])*theta[1] - (Z[:,2])*theta[2]))\n",
        "loss = np.mean(np.square(y - np.matmul(Z,theta)))\n",
        "print(\"Final loss: \", loss)\n",
        "print(\"Final theta: \", theta)"
      ],
      "execution_count": 224,
      "outputs": [
        {
          "output_type": "stream",
          "text": [
            "Loss at iter 0: 1.820672843023224\n",
            "Loss at iter 1000: 1.819874857109086\n",
            "Loss at iter 2000: 1.8190772247399634\n",
            "Loss at iter 3000: 1.8182799457577172\n",
            "Loss at iter 4000: 1.8174830200042837\n",
            "Loss at iter 5000: 1.816686447321662\n",
            "Loss at iter 6000: 1.8158902275519244\n",
            "Loss at iter 7000: 1.8150943605372174\n",
            "Loss at iter 8000: 1.8142988461197638\n",
            "Loss at iter 9000: 1.813503684141846\n",
            "Final loss:  1.8127096690796107\n",
            "Final theta:  [[0.01136716]\n",
            " [0.10145011]\n",
            " [0.998002  ]]\n"
          ],
          "name": "stdout"
        }
      ]
    },
    {
      "cell_type": "markdown",
      "metadata": {
        "id": "QzvueRCqynmk",
        "colab_type": "text"
      },
      "source": [
        "**So sánh kết quả (MSE) với Exact Solution và kết quả từ Sklearn**"
      ]
    },
    {
      "cell_type": "code",
      "metadata": {
        "id": "0Rbj_HKhJqxm",
        "colab_type": "code",
        "outputId": "155526ec-9aea-4f25-d956-9e388f8dce5f",
        "colab": {
          "base_uri": "https://localhost:8080/",
          "height": 34
        }
      },
      "source": [
        "## exact solution\n",
        "import numpy as np\n",
        "Z = np.concatenate([X, np.ones((100,1))], axis=-1)   \n",
        "Z = Z.astype(np.float64)       \n",
        "\n",
        "## giá trị a, b và c tìm được\n",
        "T = np.matmul(np.matmul(np.linalg.inv(np.matmul(Z.T,Z)), Z.T), y)\n",
        "e_a, e_b, e_c = T[0][0], T[1][0], T[2][0]\n",
        "print(e_a, e_b, e_c)"
      ],
      "execution_count": 225,
      "outputs": [
        {
          "output_type": "stream",
          "text": [
            "0.5624324788631632 0.7068021204421018 -2.7755575615628914e-17\n"
          ],
          "name": "stdout"
        }
      ]
    },
    {
      "cell_type": "code",
      "metadata": {
        "id": "WW-m_odTN4tl",
        "colab_type": "code",
        "outputId": "f5e50c0c-54a4-4d67-9345-0eab3a2a329d",
        "colab": {
          "base_uri": "https://localhost:8080/",
          "height": 34
        }
      },
      "source": [
        "from sklearn.linear_model import LinearRegression\n",
        "lr = LinearRegression().fit(X, y)                ## train LinearRegression \n",
        "sk_a, sk_b, sk_c = lr.coef_[0][0], lr.coef_[0][1], lr.intercept_[0]    ## lấy các tham số học được\n",
        "print(\"a = {}, b = {}, c = {}\".format(sk_a, sk_b, sk_c))"
      ],
      "execution_count": 226,
      "outputs": [
        {
          "output_type": "stream",
          "text": [
            "a = 0.562432478863163, b = 0.7068021204421017, c = -2.4583937605884242e-17\n"
          ],
          "name": "stdout"
        }
      ]
    },
    {
      "cell_type": "code",
      "metadata": {
        "id": "j5AQ4sG5Qs_J",
        "colab_type": "code",
        "colab": {
          "base_uri": "https://localhost:8080/",
          "height": 68
        },
        "outputId": "46d0c7eb-c707-4b96-b064-2ed0a8b7d90a"
      },
      "source": [
        "print(\"GD MSE: \", np.mean(np.square(y - g_a*X[:,0] - g_b*X[:,1] - g_c)))\n",
        "print(\"Exact SOl MSE: \", np.mean(np.square(y - e_a*X[:,0] - e_b*X[:,1] - e_c)))\n",
        "print(\"SK MSE: \", np.mean(np.square(y - sk_a*X[:,0] - sk_b*X[:,1] - sk_c)))\n"
      ],
      "execution_count": 227,
      "outputs": [
        {
          "output_type": "stream",
          "text": [
            "GD MSE:  1.9964150764154023\n",
            "Exact SOl MSE:  1.9779189943360433\n",
            "SK MSE:  1.9779189943360431\n"
          ],
          "name": "stdout"
        }
      ]
    }
  ]
}