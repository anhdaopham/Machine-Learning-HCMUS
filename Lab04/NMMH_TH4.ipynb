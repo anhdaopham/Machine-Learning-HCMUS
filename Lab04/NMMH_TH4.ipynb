{
  "nbformat": 4,
  "nbformat_minor": 0,
  "metadata": {
    "colab": {
      "name": "NMMH_TH4_1611039.ipynb",
      "provenance": [],
      "collapsed_sections": []
    },
    "kernelspec": {
      "name": "python3",
      "display_name": "Python 3"
    }
  },
  "cells": [
    {
      "cell_type": "code",
      "metadata": {
        "id": "WFS3k4zKupOC",
        "colab_type": "code",
        "colab": {}
      },
      "source": [
        "import numpy as np\n",
        "import pandas as pd\n",
        "import math"
      ],
      "execution_count": 0,
      "outputs": []
    },
    {
      "cell_type": "code",
      "metadata": {
        "id": "0Aem-sdVurTm",
        "colab_type": "code",
        "colab": {
          "base_uri": "https://localhost:8080/",
          "height": 204
        },
        "outputId": "1ed9e6f2-6773-433b-a13f-521526579f96"
      },
      "source": [
        "df = pd.read_csv(\"https://raw.githubusercontent.com/dinhvietcuong1996/Lab-MachineLearningCourse/master/Lab04/lienminh.csv\")\n",
        "df.head()"
      ],
      "execution_count": 85,
      "outputs": [
        {
          "output_type": "execute_result",
          "data": {
            "text/html": [
              "<div>\n",
              "<style scoped>\n",
              "    .dataframe tbody tr th:only-of-type {\n",
              "        vertical-align: middle;\n",
              "    }\n",
              "\n",
              "    .dataframe tbody tr th {\n",
              "        vertical-align: top;\n",
              "    }\n",
              "\n",
              "    .dataframe thead th {\n",
              "        text-align: right;\n",
              "    }\n",
              "</style>\n",
              "<table border=\"1\" class=\"dataframe\">\n",
              "  <thead>\n",
              "    <tr style=\"text-align: right;\">\n",
              "      <th></th>\n",
              "      <th>killsDiff</th>\n",
              "      <th>minionsKilledDiff</th>\n",
              "      <th>wardPlacedDiff</th>\n",
              "      <th>firstBlood</th>\n",
              "      <th>heralds</th>\n",
              "      <th>dragons</th>\n",
              "      <th>teamWins</th>\n",
              "    </tr>\n",
              "  </thead>\n",
              "  <tbody>\n",
              "    <tr>\n",
              "      <th>0</th>\n",
              "      <td>3</td>\n",
              "      <td>-2</td>\n",
              "      <td>13</td>\n",
              "      <td>blue</td>\n",
              "      <td>none</td>\n",
              "      <td>none</td>\n",
              "      <td>red</td>\n",
              "    </tr>\n",
              "    <tr>\n",
              "      <th>1</th>\n",
              "      <td>0</td>\n",
              "      <td>-66</td>\n",
              "      <td>0</td>\n",
              "      <td>red</td>\n",
              "      <td>red</td>\n",
              "      <td>red</td>\n",
              "      <td>red</td>\n",
              "    </tr>\n",
              "    <tr>\n",
              "      <th>2</th>\n",
              "      <td>-4</td>\n",
              "      <td>-17</td>\n",
              "      <td>0</td>\n",
              "      <td>red</td>\n",
              "      <td>none</td>\n",
              "      <td>blue</td>\n",
              "      <td>red</td>\n",
              "    </tr>\n",
              "    <tr>\n",
              "      <th>3</th>\n",
              "      <td>-1</td>\n",
              "      <td>-34</td>\n",
              "      <td>28</td>\n",
              "      <td>red</td>\n",
              "      <td>blue</td>\n",
              "      <td>none</td>\n",
              "      <td>red</td>\n",
              "    </tr>\n",
              "    <tr>\n",
              "      <th>4</th>\n",
              "      <td>0</td>\n",
              "      <td>-15</td>\n",
              "      <td>58</td>\n",
              "      <td>red</td>\n",
              "      <td>none</td>\n",
              "      <td>red</td>\n",
              "      <td>red</td>\n",
              "    </tr>\n",
              "  </tbody>\n",
              "</table>\n",
              "</div>"
            ],
            "text/plain": [
              "   killsDiff  minionsKilledDiff  wardPlacedDiff  ... heralds dragons teamWins\n",
              "0          3                 -2              13  ...    none    none      red\n",
              "1          0                -66               0  ...     red     red      red\n",
              "2         -4                -17               0  ...    none    blue      red\n",
              "3         -1                -34              28  ...    blue    none      red\n",
              "4          0                -15              58  ...    none     red      red\n",
              "\n",
              "[5 rows x 7 columns]"
            ]
          },
          "metadata": {
            "tags": []
          },
          "execution_count": 85
        }
      ]
    },
    {
      "cell_type": "code",
      "metadata": {
        "id": "prOCkRznutNZ",
        "colab_type": "code",
        "colab": {}
      },
      "source": [
        "killsDiff = df['killsDiff'].values\n",
        "minionsKilledDiff = df['minionsKilledDiff'].values\n",
        "wardPlacedDiff = df['wardPlacedDiff'].values\n",
        "firstBlood = df['firstBlood'].values\n",
        "heralds = df['heralds'].values\n",
        "dragons = df['dragons'].values\n",
        "\n",
        "teamWins = df['teamWins'].values"
      ],
      "execution_count": 0,
      "outputs": []
    },
    {
      "cell_type": "code",
      "metadata": {
        "id": "904bMjNhuwW1",
        "colab_type": "code",
        "colab": {
          "base_uri": "https://localhost:8080/",
          "height": 297
        },
        "outputId": "0af72921-9175-4456-fe79-bb1c7ee59f9d"
      },
      "source": [
        "import matplotlib.pyplot as plt\n",
        "## vẽ histogram (phân phối) của chênh lệch mạng hạ gục khi từng đội thắng\n",
        "_ = plt.hist(killsDiff[teamWins=='blue'], bins=100, label='blue wins')\n",
        "_ = plt.hist(killsDiff[teamWins=='red'], bins=100, label='red wins')\n",
        "plt.xlabel(\"Số mạng hạ gục\")\n",
        "plt.ylabel(\"Số trận đấu\")\n",
        "plt.legend()\n"
      ],
      "execution_count": 87,
      "outputs": [
        {
          "output_type": "execute_result",
          "data": {
            "text/plain": [
              "<matplotlib.legend.Legend at 0x7f15e28519e8>"
            ]
          },
          "metadata": {
            "tags": []
          },
          "execution_count": 87
        },
        {
          "output_type": "display_data",
          "data": {
            "image/png": "[encoded data removed]",
            "text/plain": [
              "<Figure size 432x288 with 1 Axes>"
            ]
          },
          "metadata": {
            "tags": [],
            "needs_background": "light"
          }
        }
      ]
    },
    {
      "cell_type": "markdown",
      "metadata": {
        "id": "vQ3mrRHAu07i",
        "colab_type": "text"
      },
      "source": [
        "**firstBlood**"
      ]
    },
    {
      "cell_type": "code",
      "metadata": {
        "id": "SLLKK0AIuyBp",
        "colab_type": "code",
        "colab": {
          "base_uri": "https://localhost:8080/",
          "height": 51
        },
        "outputId": "c5dca052-7b28-477c-ce0f-65adead1f0ea"
      },
      "source": [
        "# tính tương quan tuyến tính (correlation coefficient) giữa  việc hạ gục mạng đầu và chiến thắng\n",
        "np.corrcoef((firstBlood == 'blue').astype(int), (teamWins == 'blue').astype(int))"
      ],
      "execution_count": 88,
      "outputs": [
        {
          "output_type": "execute_result",
          "data": {
            "text/plain": [
              "array([[1.        , 0.20176926],\n",
              "       [0.20176926, 1.        ]])"
            ]
          },
          "metadata": {
            "tags": []
          },
          "execution_count": 88
        }
      ]
    },
    {
      "cell_type": "code",
      "metadata": {
        "id": "ZDlV3uHYu6W0",
        "colab_type": "code",
        "colab": {
          "base_uri": "https://localhost:8080/",
          "height": 68
        },
        "outputId": "919639c5-abd6-41cc-cc3d-93447f452600"
      },
      "source": [
        "df['teamWins'].value_counts()"
      ],
      "execution_count": 89,
      "outputs": [
        {
          "output_type": "execute_result",
          "data": {
            "text/plain": [
              "red     4949\n",
              "blue    4930\n",
              "Name: teamWins, dtype: int64"
            ]
          },
          "metadata": {
            "tags": []
          },
          "execution_count": 89
        }
      ]
    },
    {
      "cell_type": "code",
      "metadata": {
        "id": "dVKFCpyAu8Bt",
        "colab_type": "code",
        "colab": {
          "base_uri": "https://localhost:8080/",
          "height": 34
        },
        "outputId": "9c5eff4d-f0e3-48a9-c97f-71962a12e9e6"
      },
      "source": [
        "P_blueWins = 4930/df.shape[0]\n",
        "P_redWins = 4949/df.shape[0]\n",
        "print(P_blueWins, P_redWins)"
      ],
      "execution_count": 90,
      "outputs": [
        {
          "output_type": "stream",
          "text": [
            "0.4990383642069035 0.5009616357930965\n"
          ],
          "name": "stdout"
        }
      ]
    },
    {
      "cell_type": "code",
      "metadata": {
        "id": "_mq3Pdnhu936",
        "colab_type": "code",
        "colab": {}
      },
      "source": [
        "is_bluefirstBlood = (firstBlood == 'blue').astype(float)\n",
        "\n",
        "## tính P(X|B)\n",
        "P_blueFirstBlood_blueWins  = np.sum(firstBlood[teamWins == 'blue'] == 'blue') / np.sum(teamWins == 'blue')\n",
        "P_blueFirstBlood_blueWins = P_blueFirstBlood_blueWins * is_bluefirstBlood + (1-P_blueFirstBlood_blueWins)*(1-is_bluefirstBlood)\n",
        "\n",
        "## tính P(X|R)\n",
        "P_blueFirstBlood_redWins = np.sum(firstBlood[teamWins == 'red'] == 'blue') / np.sum(teamWins == 'red')\n",
        "P_blueFirstBlood_redWins = P_blueFirstBlood_redWins * is_bluefirstBlood + (1-P_blueFirstBlood_redWins)*(1-is_bluefirstBlood)"
      ],
      "execution_count": 0,
      "outputs": []
    },
    {
      "cell_type": "code",
      "metadata": {
        "id": "e8POiABnvAss",
        "colab_type": "code",
        "colab": {}
      },
      "source": [
        "## P(B|X) và P(R|X)\n",
        "P_blueWins_blueFirstBlood = P_blueFirstBlood_blueWins * P_blueWins / (P_blueFirstBlood_blueWins * P_blueWins + P_blueFirstBlood_redWins * P_redWins)\n",
        "P_redWins_blueFirstBlood = 1 - P_blueWins_blueFirstBlood"
      ],
      "execution_count": 0,
      "outputs": []
    },
    {
      "cell_type": "markdown",
      "metadata": {
        "id": "THGdDqEsvH7N",
        "colab_type": "text"
      },
      "source": [
        "**heralds**"
      ]
    },
    {
      "cell_type": "code",
      "metadata": {
        "id": "bNZCHuZ8vJCf",
        "colab_type": "code",
        "colab": {
          "base_uri": "https://localhost:8080/",
          "height": 51
        },
        "outputId": "e8b87d07-d742-4b8b-96e6-a810bb7bd347"
      },
      "source": [
        "# tính tương quan tuyến tính (correlation coefficient) giữa việc hạ gục heralds và chiến thắng\n",
        "np.corrcoef(( heralds == 'blue').astype(int), (teamWins == 'blue').astype(int))"
      ],
      "execution_count": 93,
      "outputs": [
        {
          "output_type": "execute_result",
          "data": {
            "text/plain": [
              "array([[1.        , 0.09238472],\n",
              "       [0.09238472, 1.        ]])"
            ]
          },
          "metadata": {
            "tags": []
          },
          "execution_count": 93
        }
      ]
    },
    {
      "cell_type": "code",
      "metadata": {
        "id": "gvwvwKlFvKrz",
        "colab_type": "code",
        "colab": {}
      },
      "source": [
        "is_blueHeralds = (heralds == 'blue').astype(float)\n",
        "\n",
        "## tính P(X|B)\n",
        "P_blueHeralds_blueWins  = np.sum(heralds[teamWins == 'blue'] == 'blue') / np.sum(teamWins == 'blue')\n",
        "P_blueHeralds_blueWins = P_blueHeralds_blueWins * is_blueHeralds + (1-P_blueHeralds_blueWins)*(1-is_blueHeralds)\n",
        "\n",
        "## tính P(X|R)\n",
        "P_blueHeralds_redWins = np.sum(heralds[teamWins == 'red'] == 'blue') / np.sum(teamWins == 'red')\n",
        "P_blueHeralds_redWins = P_blueHeralds_redWins * is_blueHeralds+ (1-P_blueHeralds_redWins)*(1-is_blueHeralds)"
      ],
      "execution_count": 0,
      "outputs": []
    },
    {
      "cell_type": "code",
      "metadata": {
        "id": "6nOAPxcUvMU_",
        "colab_type": "code",
        "colab": {}
      },
      "source": [
        "## P(B|X) và P(R|X)\n",
        "P_blueWins_blueHeralds = P_blueHeralds_blueWins * P_blueWins / (P_blueHeralds_blueWins * P_blueWins + P_blueHeralds_redWins * P_redWins)\n",
        "P_redWins_blueHeralds = 1 - P_blueWins_blueHeralds"
      ],
      "execution_count": 0,
      "outputs": []
    },
    {
      "cell_type": "markdown",
      "metadata": {
        "id": "XjnqNwCcvTAM",
        "colab_type": "text"
      },
      "source": [
        "**dragons**"
      ]
    },
    {
      "cell_type": "code",
      "metadata": {
        "id": "CpS5ipuuvQ3w",
        "colab_type": "code",
        "colab": {
          "base_uri": "https://localhost:8080/",
          "height": 51
        },
        "outputId": "58fafb41-672f-46d2-8ae3-b7b33f3f5168"
      },
      "source": [
        "# tính tương quan tuyến tính (correlation coefficient) giữa việc hạ gục dragons và chiến thắng\n",
        "np.corrcoef(( dragons == 'blue').astype(int), (teamWins == 'blue').astype(int))"
      ],
      "execution_count": 96,
      "outputs": [
        {
          "output_type": "execute_result",
          "data": {
            "text/plain": [
              "array([[1.        , 0.21376769],\n",
              "       [0.21376769, 1.        ]])"
            ]
          },
          "metadata": {
            "tags": []
          },
          "execution_count": 96
        }
      ]
    },
    {
      "cell_type": "code",
      "metadata": {
        "id": "DudEJzgfvXd_",
        "colab_type": "code",
        "colab": {}
      },
      "source": [
        "is_blueDragons = (dragons == 'blue').astype(float)\n",
        "\n",
        "## tính P(X|B)\n",
        "P_blueDragons_blueWins  = np.sum(dragons[teamWins == 'blue'] == 'blue') / np.sum(teamWins == 'blue')\n",
        "P_blueDragons_blueWins = P_blueDragons_blueWins * is_blueDragons + (1-P_blueDragons_blueWins)*(1-is_blueDragons)\n",
        "\n",
        "## tính P(X|R)\n",
        "P_blueDragons_redWins = np.sum(dragons[teamWins == 'red'] == 'blue') / np.sum(teamWins == 'red')\n",
        "P_blueDragons_redWins = P_blueDragons_redWins * is_blueDragons+ (1-P_blueDragons_redWins)*(1-is_blueDragons)"
      ],
      "execution_count": 0,
      "outputs": []
    },
    {
      "cell_type": "code",
      "metadata": {
        "id": "Lf2EqFhvvZA_",
        "colab_type": "code",
        "colab": {}
      },
      "source": [
        "## P(B|X) và P(R|X)\n",
        "P_blueWins_blueDragons= P_blueDragons_blueWins * P_blueWins / (P_blueDragons_blueWins * P_blueWins + P_blueDragons_redWins * P_redWins)\n",
        "P_redWins_blueDragons = 1 - P_blueWins_blueDragons"
      ],
      "execution_count": 0,
      "outputs": []
    },
    {
      "cell_type": "markdown",
      "metadata": {
        "id": "e17kOgJOvdDN",
        "colab_type": "text"
      },
      "source": [
        "**killsDiff**"
      ]
    },
    {
      "cell_type": "code",
      "metadata": {
        "id": "7g7BCymPvlhT",
        "colab_type": "code",
        "colab": {}
      },
      "source": [
        "## tính tham số\n",
        "killsDiff_mean_blueWins = np.mean(killsDiff[teamWins == 'blue'])\n",
        "killsDiff_std_blueWins = np.std(killsDiff[teamWins == 'blue'])\n",
        "\n",
        "killsDiff_mean_redWins = np.mean(killsDiff[teamWins == 'red'])\n",
        "killsDiff_std_redWins = np.std(killsDiff[teamWins == 'red'])\n",
        "\n",
        "def normal(x, mean, std):\n",
        "    return 1/(np.sqrt(2*np.pi)*std)*np.exp(-np.square(x-mean)/(2*np.square(std)))\n",
        "\n",
        "## P(X|B) và P(X|R)\n",
        "P_killsDiff_blueWins = normal(killsDiff, killsDiff_mean_blueWins, killsDiff_std_blueWins)\n",
        "P_killsDiff_redWins = normal(killsDiff, killsDiff_mean_redWins, killsDiff_std_redWins)"
      ],
      "execution_count": 0,
      "outputs": []
    },
    {
      "cell_type": "code",
      "metadata": {
        "id": "1uJ3nKu0vnxL",
        "colab_type": "code",
        "colab": {}
      },
      "source": [
        "## P(B|X) và P(R|X)\n",
        "P_blueWins_killsDiff = P_killsDiff_blueWins * P_blueWins / (P_killsDiff_blueWins * P_blueWins + P_killsDiff_redWins * P_redWins)\n",
        "P_redWins_killsDiff = 1 - P_blueWins_killsDiff"
      ],
      "execution_count": 0,
      "outputs": []
    },
    {
      "cell_type": "markdown",
      "metadata": {
        "id": "ACac5qnmvvYh",
        "colab_type": "text"
      },
      "source": [
        "**minionsKilledDiff**"
      ]
    },
    {
      "cell_type": "code",
      "metadata": {
        "id": "IneaIihWvsdJ",
        "colab_type": "code",
        "colab": {}
      },
      "source": [
        "## tính tham số\n",
        "minionsKilledDiff_mean_blueWins = np.mean(minionsKilledDiff[teamWins == 'blue'])\n",
        "minionsKilledDiff_std_blueWins = np.std(minionsKilledDiff[teamWins == 'blue'])\n",
        "\n",
        "minionsKilledDiff_mean_redWins = np.mean(minionsKilledDiff[teamWins == 'red'])\n",
        "minionsKilledDiff_std_redWins = np.std(minionsKilledDiff[teamWins == 'red'])\n",
        "\n",
        "def normal(x, mean, std):\n",
        "    return 1/(np.sqrt(2*np.pi)*std)*np.exp(-np.square(x-mean)/(2*np.square(std)))\n",
        "\n",
        "## P(X|B) và P(X|R)\n",
        "P_minionsKilledDiff_blueWins = normal(minionsKilledDiff, minionsKilledDiff_mean_blueWins, minionsKilledDiff_std_blueWins)\n",
        "P_minionsKilledDiff_redWins = normal(minionsKilledDiff, minionsKilledDiff_mean_redWins, minionsKilledDiff_std_redWins)"
      ],
      "execution_count": 0,
      "outputs": []
    },
    {
      "cell_type": "code",
      "metadata": {
        "id": "aPq-6nCSvy4u",
        "colab_type": "code",
        "colab": {}
      },
      "source": [
        "## P(B|X) và P(R|X)\n",
        "P_blueWins_minionsKilledDiff = P_minionsKilledDiff_blueWins * P_blueWins / (P_minionsKilledDiff_blueWins * P_blueWins + P_minionsKilledDiff_redWins * P_redWins)\n",
        "P_redWins_minionsKilledDiff = 1 - P_blueWins_minionsKilledDiff"
      ],
      "execution_count": 0,
      "outputs": []
    },
    {
      "cell_type": "markdown",
      "metadata": {
        "id": "5-CtruvDv5iX",
        "colab_type": "text"
      },
      "source": [
        "**wardPlacedDiff**"
      ]
    },
    {
      "cell_type": "code",
      "metadata": {
        "id": "Ax258aU7v3Ng",
        "colab_type": "code",
        "colab": {}
      },
      "source": [
        "## tính tham số\n",
        "wardPlacedDiff_mean_blueWins = np.mean(wardPlacedDiff[teamWins == 'blue'])\n",
        "wardPlacedDiff_std_blueWins = np.std(wardPlacedDiff[teamWins == 'blue'])\n",
        "\n",
        "wardPlacedDifff_mean_redWins = np.mean(wardPlacedDiff[teamWins == 'red'])\n",
        "wardPlacedDiff_std_redWins = np.std(wardPlacedDiff[teamWins == 'red'])\n",
        "\n",
        "def normal(x, mean, std):\n",
        "    return 1/(np.sqrt(2*np.pi)*std)*np.exp(-np.square(x-mean)/(2*np.square(std)))\n",
        "\n",
        "## P(X|B) và P(X|R)\n",
        "P_wardPlacedDiff_blueWins = normal(wardPlacedDiff, wardPlacedDiff_mean_blueWins, wardPlacedDiff_std_blueWins)\n",
        "P_wardPlacedDiff_redWins = normal(wardPlacedDiff, wardPlacedDifff_mean_redWins, wardPlacedDiff_std_redWins)"
      ],
      "execution_count": 0,
      "outputs": []
    },
    {
      "cell_type": "code",
      "metadata": {
        "id": "v1KXnyswv8KU",
        "colab_type": "code",
        "colab": {}
      },
      "source": [
        "## P(B|X) và P(R|X)\n",
        "P_blueWins_wardPlacedDiff = P_wardPlacedDiff_blueWins * P_blueWins / (P_wardPlacedDiff_blueWins * P_blueWins + P_wardPlacedDiff_redWins * P_redWins)\n",
        "P_redWins_wardPlacedDiff = 1 - P_blueWins_wardPlacedDiff"
      ],
      "execution_count": 0,
      "outputs": []
    },
    {
      "cell_type": "markdown",
      "metadata": {
        "id": "qy5xsXGLwTia",
        "colab_type": "text"
      },
      "source": [
        "***PREDICT***"
      ]
    },
    {
      "cell_type": "code",
      "metadata": {
        "id": "3xtukzclwA1E",
        "colab_type": "code",
        "colab": {}
      },
      "source": [
        "teamWins_pred = []\n",
        "for i in range(df.shape[0]):\n",
        "  P_blueWins_pred = math.log(P_blueWins) + math.log(P_blueWins_blueFirstBlood[i]) + math.log(P_blueWins_blueHeralds[i]) + math.log(P_blueWins_blueDragons[i]) + math.log(P_blueWins_killsDiff[i]) + math.log(P_blueWins_minionsKilledDiff[i]) + math.log(P_blueWins_wardPlacedDiff[i])\n",
        "  P_redWins_pred = math.log(P_redWins) + math.log(P_redWins_blueFirstBlood[i]) + math.log(P_redWins_blueHeralds[i]) + math.log(P_redWins_blueDragons[i]) + math.log(P_redWins_killsDiff[i]) + math.log(P_redWins_minionsKilledDiff[i]) + math.log(P_redWins_wardPlacedDiff[i])\n",
        "  if(P_blueWins_pred >= P_redWins_pred):\n",
        "    teamWins_pred.append('blue')\n",
        "  else:\n",
        "    teamWins_pred.append('red')"
      ],
      "execution_count": 0,
      "outputs": []
    },
    {
      "cell_type": "code",
      "metadata": {
        "id": "-1BYpm8rwDGq",
        "colab_type": "code",
        "colab": {}
      },
      "source": [
        "teamWins_pred = np.asarray(teamWins_pred)"
      ],
      "execution_count": 0,
      "outputs": []
    },
    {
      "cell_type": "code",
      "metadata": {
        "id": "tcFJh4Z1wGKp",
        "colab_type": "code",
        "colab": {
          "base_uri": "https://localhost:8080/",
          "height": 34
        },
        "outputId": "fc0da04c-30b5-483f-bdb4-90784b0ad483"
      },
      "source": [
        "accuracy = np.mean(teamWins_pred == teamWins)\n",
        "accuracy"
      ],
      "execution_count": 110,
      "outputs": [
        {
          "output_type": "execute_result",
          "data": {
            "text/plain": [
              "0.709484765664541"
            ]
          },
          "metadata": {
            "tags": []
          },
          "execution_count": 110
        }
      ]
    }
  ]
}